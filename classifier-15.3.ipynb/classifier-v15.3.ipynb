{
 "cells": [
  {
   "cell_type": "code",
   "execution_count": 4,
   "metadata": {
    "colab": {},
    "colab_type": "code",
    "executionInfo": {
     "elapsed": 1372,
     "status": "ok",
     "timestamp": 1592661084440,
     "user": {
      "displayName": "Helder Daniel",
      "photoUrl": "https://lh3.googleusercontent.com/a-/AOh14Gg9_X9PHXyfxsFqdQBJarSFy5TpLITVEg043ihVUA=s64",
      "userId": "03611350071843918342"
     },
     "user_tz": -60
    },
    "id": "1WnJ6t04g90a"
   },
   "outputs": [],
   "source": [
    "#Run in Colab\n",
    "useColab = True\n",
    "\n",
    "#Init notebook and get data?\n",
    "initNotebook = True\n",
    "\n",
    "seed=6512\n",
    "import numpy as np\n",
    "np.random.seed(seed) # for reproducibility\n",
    "import random\n",
    "random.seed(seed)\n",
    "\n",
    "import statistics\n",
    "import pickle\n",
    "import os"
   ]
  },
  {
   "cell_type": "code",
   "execution_count": 5,
   "metadata": {
    "colab": {},
    "colab_type": "code",
    "executionInfo": {
     "elapsed": 1881,
     "status": "ok",
     "timestamp": 1592661084966,
     "user": {
      "displayName": "Helder Daniel",
      "photoUrl": "https://lh3.googleusercontent.com/a-/AOh14Gg9_X9PHXyfxsFqdQBJarSFy5TpLITVEg043ihVUA=s64",
      "userId": "03611350071843918342"
     },
     "user_tz": -60
    },
    "id": "P08pSR2Ngbbz"
   },
   "outputs": [],
   "source": [
    "#Define hardware to use\n",
    "#Set float 16,32 or 64 on supported GPUs\n",
    "#https://www.kaggle.com/danmoller/keras-training-with-float16-test-kernel-2\n",
    "DTYPE  = None       #defaults to float32\n",
    "#DTYPE = 'float16'\n",
    "#DTYPE = 'float32'\n",
    "#DTYPE = 'float64'\n",
    "\n",
    "#Use TPU\n",
    "useTPU = False"
   ]
  },
  {
   "cell_type": "code",
   "execution_count": 6,
   "metadata": {
    "colab": {
     "base_uri": "https://localhost:8080/",
     "height": 199
    },
    "colab_type": "code",
    "executionInfo": {
     "elapsed": 5459,
     "status": "ok",
     "timestamp": 1592661088554,
     "user": {
      "displayName": "Helder Daniel",
      "photoUrl": "https://lh3.googleusercontent.com/a-/AOh14Gg9_X9PHXyfxsFqdQBJarSFy5TpLITVEg043ihVUA=s64",
      "userId": "03611350071843918342"
     },
     "user_tz": -60
    },
    "id": "h5vXItUxyM3Z",
    "outputId": "c0638f8a-37f3-4276-ecd2-943f0b7bb830"
   },
   "outputs": [
    {
     "name": "stdout",
     "output_type": "stream",
     "text": [
      "Requirement already satisfied: hdf5storage in /usr/local/lib/python3.6/dist-packages (0.1.15)\n",
      "Requirement already satisfied: numpy; python_version >= \"3.4\" in /usr/local/lib/python3.6/dist-packages (from hdf5storage) (1.18.5)\n",
      "Requirement already satisfied: h5py>=2.1; python_version >= \"3.3\" in /usr/local/lib/python3.6/dist-packages (from hdf5storage) (2.10.0)\n",
      "Requirement already satisfied: six in /usr/local/lib/python3.6/dist-packages (from h5py>=2.1; python_version >= \"3.3\"->hdf5storage) (1.12.0)\n",
      "Drive already mounted at /content/gdrive; to attempt to forcibly remount, call drive.mount(\"/content/gdrive\", force_remount=True).\n",
      "aux 1.15.34\n",
      "model 1.15.34\n",
      "common 1.5.1\n",
      "TF version:  2.2.0\n"
     ]
    }
   ],
   "source": [
    "#Init Local or Colab New\n",
    "if initNotebook:\n",
    "  if useColab:\n",
    "    !pip3 install hdf5storage\n",
    "\n",
    "    from google.colab import drive\n",
    "    drive.mount('/content/gdrive')\n",
    "\n",
    "    #import sys\n",
    "    #sys.path.append('gdrive/My Drive/Colab Notebooks/classifier/lib')\n",
    "    ##!cp gdrive/My\\ Drive/Colab\\ Notebooks/classifier/* .\n",
    "    ##!python3 classifier-v10.py\n",
    "\n",
    "if useColab:\n",
    "  %run gdrive/My\\ Drive/Colab\\ Notebooks/lib/auxf.ipynb $useColab\n",
    "  %run gdrive/My\\ Drive/Colab\\ Notebooks/lib/common.ipynb\n",
    "else:\n",
    "  %run lib/common.ipynb\n",
    "  %run lib/auxf.ipynb $useColab\n",
    "  \n",
    "print(\"TF version: \",tf.__version__)"
   ]
  },
  {
   "cell_type": "code",
   "execution_count": 7,
   "metadata": {
    "colab": {
     "base_uri": "https://localhost:8080/",
     "height": 467
    },
    "colab_type": "code",
    "executionInfo": {
     "elapsed": 11022,
     "status": "ok",
     "timestamp": 1592661094129,
     "user": {
      "displayName": "Helder Daniel",
      "photoUrl": "https://lh3.googleusercontent.com/a-/AOh14Gg9_X9PHXyfxsFqdQBJarSFy5TpLITVEg043ihVUA=s64",
      "userId": "03611350071843918342"
     },
     "user_tz": -60
    },
    "id": "19g6Yn2PBkPR",
    "outputId": "4ca69ddc-73ea-4c3e-8fae-d3d21d6edf16"
   },
   "outputs": [
    {
     "name": "stdout",
     "output_type": "stream",
     "text": [
      "nvcc: NVIDIA (R) Cuda compiler driver\n",
      "Copyright (c) 2005-2019 NVIDIA Corporation\n",
      "Built on Sun_Jul_28_19:07:16_PDT_2019\n",
      "Cuda compilation tools, release 10.1, V10.1.243\n",
      "Sat Jun 20 13:51:31 2020       \n",
      "+-----------------------------------------------------------------------------+\n",
      "| NVIDIA-SMI 450.36.06    Driver Version: 418.67       CUDA Version: 10.1     |\n",
      "|-------------------------------+----------------------+----------------------+\n",
      "| GPU  Name        Persistence-M| Bus-Id        Disp.A | Volatile Uncorr. ECC |\n",
      "| Fan  Temp  Perf  Pwr:Usage/Cap|         Memory-Usage | GPU-Util  Compute M. |\n",
      "|                               |                      |               MIG M. |\n",
      "|===============================+======================+======================|\n",
      "|   0  Tesla P4            Off  | 00000000:00:04.0 Off |                    0 |\n",
      "| N/A   40C    P8     7W /  75W |      0MiB /  7611MiB |      0%      Default |\n",
      "|                               |                      |                 ERR! |\n",
      "+-------------------------------+----------------------+----------------------+\n",
      "                                                                               \n",
      "+-----------------------------------------------------------------------------+\n",
      "| Processes:                                                                  |\n",
      "|  GPU   GI   CI        PID   Type   Process name                  GPU Memory |\n",
      "|        ID   ID                                                   Usage      |\n",
      "|=============================================================================|\n",
      "|  No running processes found                                                 |\n",
      "+-----------------------------------------------------------------------------+\n"
     ]
    },
    {
     "data": {
      "text/plain": [
       "0"
      ]
     },
     "execution_count": 7,
     "metadata": {
      "tags": []
     },
     "output_type": "execute_result"
    }
   ],
   "source": [
    "#Install cuda 9.0\n",
    "#BY Default is installed 10.0\n",
    "#https://stackoverflow.com/questions/51888118/how-to-downgrade-tensorflow-version-in-colab\n",
    "#\n",
    "'''\n",
    "!wget https://developer.nvidia.com/compute/cuda/9.0/Prod/local_installers/cuda-repo-ubuntu1604-9-0-local_9.0.176-1_amd64-deb\n",
    "!dpkg -i cuda-repo-ubuntu1604-9-0-local_9.0.176-1_amd64-deb\n",
    "!apt-key add /var/cuda-repo-9-0-local/7fa2af80.pub\n",
    "!apt-get update\n",
    "!apt-get install cuda=9.0.176-1\n",
    "'''\n",
    "!nvcc --version\n",
    "if useTPU == False:\n",
    "  !nvidia-smi\n",
    "os.system('uname -a')"
   ]
  },
  {
   "cell_type": "code",
   "execution_count": 8,
   "metadata": {
    "colab": {},
    "colab_type": "code",
    "executionInfo": {
     "elapsed": 11010,
     "status": "ok",
     "timestamp": 1592661094130,
     "user": {
      "displayName": "Helder Daniel",
      "photoUrl": "https://lh3.googleusercontent.com/a-/AOh14Gg9_X9PHXyfxsFqdQBJarSFy5TpLITVEg043ihVUA=s64",
      "userId": "03611350071843918342"
     },
     "user_tz": -60
    },
    "id": "oWmY7LlxoNSD"
   },
   "outputs": [],
   "source": [
    "#by Default on June, 27th 2019, TF==1.14.0rc1 GPU version\n",
    "#IF installing tensorflow==1.14.0, JUST INSTALLs CPU SLOWER VERSION\n",
    "#https://stackoverflow.com/questions/51888118/how-to-downgrade-tensorflow-version-in-colab\n",
    "#\n",
    "if useTPU:\n",
    "  #Use pip3 install tensorflow-gpu==x.xx.x\n",
    "  #!pip3 install tensorflow-gpu==1.12.0  #(1.67/15.6 secs) (NEEDS cuda 9.x)\n",
    "  #!pip3 install tensorflow-gpu==1.13.1  #(1.67/15.6 secs) on T4 (0.1/full dataset) Faster on TPU!!!\n",
    "  #!pip3 install tensorflow-gpu==1.14.0  #(2.71/17.7 secs)\n",
    "  #!pip3 install tensorflow-gpu==1.14.0rc1  #(1.55/12.5 secs) (Default, on 27th june )\n",
    "  #!pip3 install tensorflow-gpu==2.0.0b1 #(2.71/15.6 secs) #Fails detect TPU\n",
    "  import tensorflow as tf\n",
    "  print(tf.__version__)\n",
    "  tfVersion114=False"
   ]
  },
  {
   "cell_type": "code",
   "execution_count": 9,
   "metadata": {
    "colab": {},
    "colab_type": "code",
    "executionInfo": {
     "elapsed": 11003,
     "status": "ok",
     "timestamp": 1592661094131,
     "user": {
      "displayName": "Helder Daniel",
      "photoUrl": "https://lh3.googleusercontent.com/a-/AOh14Gg9_X9PHXyfxsFqdQBJarSFy5TpLITVEg043ihVUA=s64",
      "userId": "03611350071843918342"
     },
     "user_tz": -60
    },
    "id": "E0FwUP5Rgbbv"
   },
   "outputs": [],
   "source": [
    "import time\n",
    "import os, sys"
   ]
  },
  {
   "cell_type": "code",
   "execution_count": 10,
   "metadata": {
    "colab": {},
    "colab_type": "code",
    "executionInfo": {
     "elapsed": 10996,
     "status": "ok",
     "timestamp": 1592661094131,
     "user": {
      "displayName": "Helder Daniel",
      "photoUrl": "https://lh3.googleusercontent.com/a-/AOh14Gg9_X9PHXyfxsFqdQBJarSFy5TpLITVEg043ihVUA=s64",
      "userId": "03611350071843918342"
     },
     "user_tz": -60
    },
    "id": "HlNvXXzq7hl3"
   },
   "outputs": [],
   "source": [
    "#If True use CNN else MLP (dense)\n",
    "useCNN = '1D' # '2D' or None for dense MLP"
   ]
  },
  {
   "cell_type": "code",
   "execution_count": 11,
   "metadata": {
    "colab": {},
    "colab_type": "code",
    "executionInfo": {
     "elapsed": 10988,
     "status": "ok",
     "timestamp": 1592661094132,
     "user": {
      "displayName": "Helder Daniel",
      "photoUrl": "https://lh3.googleusercontent.com/a-/AOh14Gg9_X9PHXyfxsFqdQBJarSFy5TpLITVEg043ihVUA=s64",
      "userId": "03611350071843918342"
     },
     "user_tz": -60
    },
    "id": "5R-62mz4gbb5"
   },
   "outputs": [],
   "source": [
    "#Signal config\n",
    "#timeSegmentLength = 50000\n",
    "#timeSegmentLength = 787   #for features file\n",
    "#timeSegmentLength = 3072\n",
    "#timeSegmentLength = 6144\n",
    "timeSegmentLength = 6000\n",
    "samplesSlice \t  = 1    #get smaller test set\n",
    "samplesPart  \t  = 0    #part to use (part > 0 works only with samplesSlice==2 for now)\n",
    "windowSlice     = 1    #set smaller windows\n",
    "numClasses      = 7    #Fault classes\n",
    "oneHotEncode    = False\n",
    "\n",
    "#reduce input by this factor getting only multiple elements of signal\n",
    "#if underSample is 2 gets only the even elemnts of the 50000 points signal\n",
    "#if underSample is 10 gets only the 1/10 elements, spaced by 10, of the 50000 points signal\n",
    "#we can think of this as a step in a for\n",
    "underSample = 1\n",
    "inputLen : int = int(timeSegmentLength / underSample) "
   ]
  },
  {
   "cell_type": "code",
   "execution_count": 12,
   "metadata": {
    "colab": {},
    "colab_type": "code",
    "executionInfo": {
     "elapsed": 10983,
     "status": "ok",
     "timestamp": 1592661094133,
     "user": {
      "displayName": "Helder Daniel",
      "photoUrl": "https://lh3.googleusercontent.com/a-/AOh14Gg9_X9PHXyfxsFqdQBJarSFy5TpLITVEg043ihVUA=s64",
      "userId": "03611350071843918342"
     },
     "user_tz": -60
    },
    "id": "H9O4ccL_gbb8"
   },
   "outputs": [],
   "source": [
    "# Model definition\n",
    "if useCNN == '2D':\n",
    "    conv2Drows   = 3       #no. of channels (update to 8)\n",
    "    conv2Dcols   = 1       #If > 1 stack channel data slices\n",
    "\n",
    "# '1D' or dense MLP\n",
    "else:\n",
    "    conv2Drows   = 1       #No 2nd dim in CNN\n",
    "    conv2Dcols   = 1       #If > 1 stack channels, or stack channel data slices if only one channel\n",
    "    \n",
    "filters          = 32\n",
    "dropOutRatio     = 0.5     #dropout ratio for dropout layer"
   ]
  },
  {
   "cell_type": "code",
   "execution_count": 13,
   "metadata": {
    "colab": {},
    "colab_type": "code",
    "executionInfo": {
     "elapsed": 10975,
     "status": "ok",
     "timestamp": 1592661094134,
     "user": {
      "displayName": "Helder Daniel",
      "photoUrl": "https://lh3.googleusercontent.com/a-/AOh14Gg9_X9PHXyfxsFqdQBJarSFy5TpLITVEg043ihVUA=s64",
      "userId": "03611350071843918342"
     },
     "user_tz": -60
    },
    "id": "Ia1BwxRjgbb_"
   },
   "outputs": [],
   "source": [
    "#Train parameters\n",
    "train = True\n",
    "shuffleValData = False\n",
    "epochs =  100\n",
    "batchSize = 32"
   ]
  },
  {
   "cell_type": "code",
   "execution_count": 14,
   "metadata": {
    "colab": {},
    "colab_type": "code",
    "executionInfo": {
     "elapsed": 10968,
     "status": "ok",
     "timestamp": 1592661094134,
     "user": {
      "displayName": "Helder Daniel",
      "photoUrl": "https://lh3.googleusercontent.com/a-/AOh14Gg9_X9PHXyfxsFqdQBJarSFy5TpLITVEg043ihVUA=s64",
      "userId": "03611350071843918342"
     },
     "user_tz": -60
    },
    "id": "WBaudPypgbcD"
   },
   "outputs": [],
   "source": [
    "#Adaptive LR and early stop\n",
    "decayLearningRate    = False\n",
    "bouncingLearningRate = False\n",
    "adaptLearningRate    = False\n",
    "earlyStopStall       = False\n",
    "metricES             = 'val_loss'\n",
    "metricLR             = 'val_loss'  #metric to chg LR and earlyStop\n",
    "earlyStopACC         = False\n",
    "earlyStopACCmin      = 0.995 #0.995\n",
    "initialLR            = 0.001  #None gives optimizer default: SGD dflt LR = 0.01, Adam = 0.001\n",
    "minLR                = 1e-6\n",
    "reduceLRFactor       = 0.5\n",
    "esPatienceEpochs     = 5\n",
    "alrPatienceEpochs    = 20\n",
    "waitMonitorEpochs    = 0       #wait epoch before start monitoring measure\n",
    "minDeltaStop         = 0.00001  #var to stop after esPatienceStop epochs\n",
    "minDeltaLR           = 0.00001  #var to change LR after alrPatienceStop epochs"
   ]
  },
  {
   "cell_type": "code",
   "execution_count": 15,
   "metadata": {
    "colab": {},
    "colab_type": "code",
    "executionInfo": {
     "elapsed": 10962,
     "status": "ok",
     "timestamp": 1592661094135,
     "user": {
      "displayName": "Helder Daniel",
      "photoUrl": "https://lh3.googleusercontent.com/a-/AOh14Gg9_X9PHXyfxsFqdQBJarSFy5TpLITVEg043ihVUA=s64",
      "userId": "03611350071843918342"
     },
     "user_tz": -60
    },
    "id": "pS2eHJwz_QxH"
   },
   "outputs": [],
   "source": [
    "#optimizer setup\n",
    "optimizer = tf.keras.optimizers.Adam(lr=initialLR)\n",
    "#optimizer=tf.keras.optimizers.RMSprop(lr=initialLR) # loss='categorical_crossentropy', metrics=['acc', 'mae', 'mse'])\n",
    "#optimizer=tf.keras.optimizers.Adagrad(lr=initialLR) # loss='categorical_crossentropy', metrics=['acc', 'mae', 'mse'])\n",
    "#optimizer=tf.keras.optimizers.SGD(lr=initialLR)     # loss='mse', metrics=['acc', 'mae', 'mse'])\n",
    "loss='mse'\n",
    "metrics=['acc', 'mae', 'mse'] \n",
    "#loss=tf.keras.losses.sparse_categorical_crossentropy,\n",
    "#metrics=['sparse_categorical_accuracy']\n",
    "#loss=tf.keras.losses.categorical_crossentropy,\n",
    "#metrics=['categorical_accuracy'])   "
   ]
  },
  {
   "cell_type": "code",
   "execution_count": 16,
   "metadata": {
    "colab": {},
    "colab_type": "code",
    "executionInfo": {
     "elapsed": 11433,
     "status": "ok",
     "timestamp": 1592661094613,
     "user": {
      "displayName": "Helder Daniel",
      "photoUrl": "https://lh3.googleusercontent.com/a-/AOh14Gg9_X9PHXyfxsFqdQBJarSFy5TpLITVEg043ihVUA=s64",
      "userId": "03611350071843918342"
     },
     "user_tz": -60
    },
    "id": "1hgW_bgbgbcG"
   },
   "outputs": [],
   "source": [
    "#I/O setup\n",
    "loadModel   = False\n",
    "saveModel   = True\n",
    "forceCompileModel = True\n",
    "saveEpochs = 1 #save at how many epochs\n",
    "\n",
    "if useColab:\n",
    "    recordpath='gdrive/My Drive/Colab Notebooks/00data/record/'\n",
    "    exppath='gdrive/My Drive/Colab Notebooks/00data/record/experiments/'\n",
    "    storagepath='gdrive/My Drive/Colab Notebooks/00data/storage/'\n",
    "else:\n",
    "    recordpath='/home/hdaniel/Downloads/record/'\n",
    "    exppath='/home/hdaniel/Downloads/record/experiments/'\n",
    "    storagepath='/home/hdaniel/Downloads/'\n",
    "\n",
    "#loadModelFN     = recordpath + 'model-u1-e100-50000-10-estrides5.h5'\n",
    "#loadModelFN     = recordpath + 'model-u1-e100-25000-10-estrides5.h5'\n",
    "#loadModelFN     = recordpath + 'model-u1-e200-25000-10-estrides5-SGD0.001.h5'\n",
    "#loadModelFN     = recordpath + 'modelBest-200+45.h5'\n",
    "#loadModelFN     = recordpath + 'modelBest-2-100-100.h5'\n",
    "#loadModelFN     = recordpath + 'modelBest-2-600.h5'\n",
    "#loadModelFN     = recordpath + 'modelBest.h5'\n",
    "#loadModelFN     = recordpath + 'cnnctbu/cnn32-3072-modelBest-1300.h5'\n",
    "loadModelFN     = recordpath + 'cnnctbu/00-cnn32-no-500.h5'\n",
    "loadModelFN     = recordpath + 'cnnctbu/00-cnn31-309e-LR0.0005-2000pts-acc100loss0.h5'\n",
    "saveBestModelFN = recordpath + 'modelBest.h5'\n",
    "#saveBestModelFN = recordpath + 'bouncing/{epoch:04d}-{l5:08d}-{val_loss:.5f}-{val_acc:.5f}-' + 'modelBest.h5'\n",
    "saveLastModelFN = recordpath + 'modelLast.h5'\n",
    "#dataFN          = storagepath + 'raw_50000_003_dataset_Quantile_4_classes.mat'  #4 classes\n",
    "#dataFN          = storagepath + 'raw_50000_003_qnorm_even.mat'  #36 classes\n",
    "#dataFN          = storagepath + 'datactbu.mat' #unshuffled\n",
    "#dataFN          = storagepath + 'datactbuset.mat'#shuffled\n",
    "#dataFN          = storagepath + 'dataualg.mat'\n",
    "#dataFN          = storagepath + 'raw_3channels-new.mat'\n",
    "#dataFN          = storagepath + 'raw_3channels-s1000.mat'\n",
    "dataFN          = storagepath + 'raw_3channels-w2000-r01.mat'\n",
    "#dataFN          = storagepath + 'features_TS_50000_Ch_003_TR_90_TST_10_dataset_Quantile_4_classes.mat'\n",
    "\n",
    "logFN           = exppath + 'experiment.log'"
   ]
  },
  {
   "cell_type": "markdown",
   "metadata": {
    "colab_type": "text",
    "id": "9CdlbBS4gbcX"
   },
   "source": [
    "# Main"
   ]
  },
  {
   "cell_type": "code",
   "execution_count": 17,
   "metadata": {
    "colab": {},
    "colab_type": "code",
    "executionInfo": {
     "elapsed": 11426,
     "status": "ok",
     "timestamp": 1592661094615,
     "user": {
      "displayName": "Helder Daniel",
      "photoUrl": "https://lh3.googleusercontent.com/a-/AOh14Gg9_X9PHXyfxsFqdQBJarSFy5TpLITVEg043ihVUA=s64",
      "userId": "03611350071843918342"
     },
     "user_tz": -60
    },
    "id": "VGOCl8Og6_a_"
   },
   "outputs": [],
   "source": [
    "#%run aux.ipynb $useColab\n",
    "#%run gdrive/My\\ Drive/Colab\\ Notebooks/classifier/aux.ipynb $useColab"
   ]
  },
  {
   "cell_type": "code",
   "execution_count": 18,
   "metadata": {
    "colab": {
     "base_uri": "https://localhost:8080/",
     "height": 53
    },
    "colab_type": "code",
    "executionInfo": {
     "elapsed": 12661,
     "status": "ok",
     "timestamp": 1592661095857,
     "user": {
      "displayName": "Helder Daniel",
      "photoUrl": "https://lh3.googleusercontent.com/a-/AOh14Gg9_X9PHXyfxsFqdQBJarSFy5TpLITVEg043ihVUA=s64",
      "userId": "03611350071843918342"
     },
     "user_tz": -60
    },
    "id": "vRsYqoU8zXet",
    "outputId": "94dd759e-10c3-410a-aecb-ee3f37bc06d2"
   },
   "outputs": [
    {
     "name": "stdout",
     "output_type": "stream",
     "text": [
      "gdrive/My Drive/Colab Notebooks/00data/storage/raw_3channels-w2000-r01.mat\n"
     ]
    },
    {
     "data": {
      "text/plain": [
       "[('X', (7000, 6000), 'single'), ('Y', (7000, 7), 'uint8')]"
      ]
     },
     "execution_count": 18,
     "metadata": {
      "tags": []
     },
     "output_type": "execute_result"
    }
   ],
   "source": [
    "import numpy as np, scipy.io\n",
    "print(dataFN)\n",
    "scipy.io.whosmat(dataFN)"
   ]
  },
  {
   "cell_type": "code",
   "execution_count": 19,
   "metadata": {
    "colab": {
     "base_uri": "https://localhost:8080/",
     "height": 251
    },
    "colab_type": "code",
    "executionInfo": {
     "elapsed": 13537,
     "status": "ok",
     "timestamp": 1592661096745,
     "user": {
      "displayName": "Helder Daniel",
      "photoUrl": "https://lh3.googleusercontent.com/a-/AOh14Gg9_X9PHXyfxsFqdQBJarSFy5TpLITVEg043ihVUA=s64",
      "userId": "03611350071843918342"
     },
     "user_tz": -60
    },
    "id": "MDfQABFZrp8r",
    "outputId": "cd88fe94-9cb3-4aaf-f12a-5d96d18389ad",
    "scrolled": true
   },
   "outputs": [
    {
     "name": "stdout",
     "output_type": "stream",
     "text": [
      "Loading data ...\n",
      "done.\n",
      "Preparing data ...\n",
      "0\n",
      "1\n",
      "2\n",
      "3\n",
      "4\n",
      "5\n",
      "6\n",
      "done\n",
      "Setting up data ...\n",
      "done\n"
     ]
    }
   ],
   "source": [
    "def initData(data):\n",
    "    print('Preparing data ...') \n",
    "    #For quantile dataset or shuffled sets \n",
    "    #trainXs, trainYs, testXs, testYs = getData1(data, underSample)\n",
    "    #For raw dataset (36 classes)\n",
    "    #needs too much memory better do it offline\n",
    "    #trainXs, trainYs, testXs, testYs = getData2(data, 36, 0.9, underSample, 'features', 'labels')\n",
    "    #For CTBU unshuffled dataset\n",
    "    trainXs, trainYs, testXs, testYs = getData2(data, numClasses, 0.8, underSample)\n",
    "    print('done')\n",
    "\n",
    "    #From 36 to 4 classes\n",
    "    if numClasses == 4:\n",
    "        to4classesSet = [(0, 0), (1, 7), (8, 14), (15, 35)]\n",
    "        trainYs = joinClasses(trainYs, to4classesSet)\n",
    "        testYs  = joinClasses(testYs,  to4classesSet)\n",
    "\n",
    "    print('Setting up data ...')\n",
    "    trainXs, trainYs, testXs, testYs = setupData(\n",
    "          trainXs, trainYs, testXs, testYs, \n",
    "          numClasses, samplesSlice, samplesPart, windowSlice, \n",
    "          conv2Drows, conv2Dcols, underSample, useCNN, DTYPE)\n",
    "    print('done')  \n",
    "\n",
    "    if oneHotEncode:\n",
    "        #Transform in one:hot encoding\n",
    "        #Must use in the optimizer tf.keras.losses.categorical_crossentropy\n",
    "        #rather than: tf.keras.losses.sparse_categorical_crossentropy\n",
    "        #If using sparse one_hot is handled by the optimizer must supply not one_hot encoded\n",
    "        trainYs = one_hot(trainYs, numClasses) \n",
    "        testYs  = one_hot(testYs,  numClasses) \n",
    "  \n",
    "    return trainXs, trainYs, testXs, testYs\n",
    "  \n",
    "#Setup data\n",
    "if initNotebook:\n",
    "    print('Loading data ...')\n",
    "    data = loadData(dataFN)\n",
    "    print('done.')        \n",
    "trainXs, trainYs, testXs, testYs = initData(data)"
   ]
  },
  {
   "cell_type": "code",
   "execution_count": 20,
   "metadata": {
    "colab": {
     "base_uri": "https://localhost:8080/",
     "height": 305
    },
    "colab_type": "code",
    "executionInfo": {
     "elapsed": 13530,
     "status": "ok",
     "timestamp": 1592661096749,
     "user": {
      "displayName": "Helder Daniel",
      "photoUrl": "https://lh3.googleusercontent.com/a-/AOh14Gg9_X9PHXyfxsFqdQBJarSFy5TpLITVEg043ihVUA=s64",
      "userId": "03611350071843918342"
     },
     "user_tz": -60
    },
    "id": "fPuJ7qs3_Fg3",
    "outputId": "743b8e6b-c558-4347-b408-1e047a500277"
   },
   "outputs": [
    {
     "name": "stdout",
     "output_type": "stream",
     "text": [
      "[[0 0 0 0 0 0 1]\n",
      " [0 0 0 0 0 1 0]\n",
      " [0 0 0 0 1 0 0]\n",
      " [0 0 0 1 0 0 0]\n",
      " [0 0 1 0 0 0 0]\n",
      " [0 1 0 0 0 0 0]\n",
      " [1 0 0 0 0 0 0]]\n",
      "[[0 0 0 0 0 0 1]\n",
      " [0 0 0 0 0 1 0]\n",
      " [0 0 0 0 1 0 0]\n",
      " [0 0 0 1 0 0 0]\n",
      " [0 0 1 0 0 0 0]\n",
      " [0 1 0 0 0 0 0]\n",
      " [1 0 0 0 0 0 0]]\n",
      "[800 800 800 800 800 800 800]\n",
      "[200 200 200 200 200 200 200]\n"
     ]
    }
   ],
   "source": [
    "#Print number of samples by classes\n",
    "#Unique classes\n",
    "print(np.unique(trainYs, return_counts=True, axis=0)[0])\n",
    "print(np.unique(testYs, return_counts=True, axis=0)[0])\n",
    "#Number of samples of each unique class\n",
    "print(np.unique(trainYs, return_counts=True, axis=0)[1])\n",
    "print(np.unique(testYs, return_counts=True, axis=0)[1])"
   ]
  },
  {
   "cell_type": "code",
   "execution_count": 21,
   "metadata": {
    "colab": {
     "base_uri": "https://localhost:8080/",
     "height": 373
    },
    "colab_type": "code",
    "executionInfo": {
     "elapsed": 14047,
     "status": "ok",
     "timestamp": 1592661097278,
     "user": {
      "displayName": "Helder Daniel",
      "photoUrl": "https://lh3.googleusercontent.com/a-/AOh14Gg9_X9PHXyfxsFqdQBJarSFy5TpLITVEg043ihVUA=s64",
      "userId": "03611350071843918342"
     },
     "user_tz": -60
    },
    "id": "GXVMmI5j2DEX",
    "outputId": "1dc8fd1c-b5b3-4143-850a-79f2611a7f45",
    "scrolled": true
   },
   "outputs": [
    {
     "name": "stdout",
     "output_type": "stream",
     "text": [
      "(5600, 6000, 1) (5600, 7) (1400, 6000, 1) (1400, 7)\n",
      "[[-1.6363914 ]\n",
      " [ 0.50326234]\n",
      " [ 1.114592  ]]\n",
      "[0 1 0 0 0 0 0]\n"
     ]
    },
    {
     "data": {
      "text/plain": [
       "'\\nwith seed(1024), trainXs[101, 7:10]:\\n[[-16.613968]\\n [-15.085644]\\n [-15.085644]]\\n [0 0 0 0 0 1 0]\\n'"
      ]
     },
     "execution_count": 21,
     "metadata": {
      "tags": []
     },
     "output_type": "execute_result"
    },
    {
     "data": {
      "image/png": "[encoded data removed]",
      "text/plain": [
       "<Figure size 432x288 with 1 Axes>"
      ]
     },
     "metadata": {
      "needs_background": "light",
      "tags": []
     },
     "output_type": "display_data"
    }
   ],
   "source": [
    "%matplotlib inline\n",
    "import matplotlib.pyplot as plt\n",
    "\n",
    "print(trainXs.shape, trainYs.shape, testXs.shape, testYs.shape)\n",
    "print(trainXs[101, 7:10])\n",
    "print(trainYs[101,:])\n",
    "\n",
    "if useCNN == '1D':\n",
    "    plt.plot(trainXs[5010,:])\n",
    "if useCNN == '2D':\n",
    "    plt.plot(trainXs[5010,:].flatten().reshape(trainXs.shape[1], conv2Dcols*conv2Drows))\n",
    "'''\n",
    "with seed(1024), trainXs[101, 7:10]:\n",
    "[[-16.613968]\n",
    " [-15.085644]\n",
    " [-15.085644]]\n",
    " [0 0 0 0 0 1 0]\n",
    "'''"
   ]
  },
  {
   "cell_type": "code",
   "execution_count": 22,
   "metadata": {
    "colab": {
     "base_uri": "https://localhost:8080/",
     "height": 593
    },
    "colab_type": "code",
    "executionInfo": {
     "elapsed": 21890,
     "status": "ok",
     "timestamp": 1592661105135,
     "user": {
      "displayName": "Helder Daniel",
      "photoUrl": "https://lh3.googleusercontent.com/a-/AOh14Gg9_X9PHXyfxsFqdQBJarSFy5TpLITVEg043ihVUA=s64",
      "userId": "03611350071843918342"
     },
     "user_tz": -60
    },
    "id": "xjhjrKrigbcc",
    "outputId": "79eb6d6f-c85d-4362-94f2-d5b6861f2606"
   },
   "outputs": [
    {
     "name": "stdout",
     "output_type": "stream",
     "text": [
      "Setting up ANN model ...\n",
      "WARNING:tensorflow:`period` argument is deprecated. Please use `save_freq` to specify the frequency in number of batches seen.\n",
      "Model: \"sequential\"\n",
      "_________________________________________________________________\n",
      "Layer (type)                 Output Shape              Param #   \n",
      "=================================================================\n",
      "conv1d (Conv1D)              (None, 6000, 32)          672       \n",
      "_________________________________________________________________\n",
      "max_pooling1d (MaxPooling1D) (None, 1200, 32)          0         \n",
      "_________________________________________________________________\n",
      "conv1d_1 (Conv1D)            (None, 1200, 64)          41024     \n",
      "_________________________________________________________________\n",
      "max_pooling1d_1 (MaxPooling1 (None, 240, 64)           0         \n",
      "_________________________________________________________________\n",
      "conv1d_2 (Conv1D)            (None, 240, 128)          163968    \n",
      "_________________________________________________________________\n",
      "max_pooling1d_2 (MaxPooling1 (None, 48, 128)           0         \n",
      "_________________________________________________________________\n",
      "conv1d_3 (Conv1D)            (None, 48, 64)            163904    \n",
      "_________________________________________________________________\n",
      "max_pooling1d_3 (MaxPooling1 (None, 10, 64)            0         \n",
      "_________________________________________________________________\n",
      "dropout (Dropout)            (None, 10, 64)            0         \n",
      "_________________________________________________________________\n",
      "flatten (Flatten)            (None, 640)               0         \n",
      "_________________________________________________________________\n",
      "dense (Dense)                (None, 7)                 4487      \n",
      "=================================================================\n",
      "Total params: 374,055\n",
      "Trainable params: 374,055\n",
      "Non-trainable params: 0\n",
      "_________________________________________________________________\n"
     ]
    }
   ],
   "source": [
    "def prepareInput(X, y, batchSize=256, shuffle=False):\n",
    "    seed = 0\n",
    "    # Convert the inputs to a Dataset.\n",
    "    dataset = tf.data.Dataset.from_tensor_slices((X, y))\n",
    "    # Shuffle, repeat, and batch the examples.\n",
    "    dataset = dataset.cache()\n",
    "    if shuffle:\n",
    "        dataset = dataset.shuffle(X.shape[0], seed, reshuffle_each_iteration=True)\n",
    "    dataset = dataset.repeat() #repeat same dataset next epoch\n",
    "    dataset = dataset.batch(batchSize, drop_remainder=True) #drops remaining samples < batchSize\n",
    "    # Return the dataset.\n",
    "    return dataset\n",
    "\n",
    "def setUpModel(inputLen):  \n",
    "    #Load or setup model\n",
    "    if loadModel:\n",
    "        print('Loading ANN model ...')\n",
    "        model = tf.keras.models.load_model(loadModelFN)\n",
    "        #force change optimizer and metrics\n",
    "        if forceCompileModel:\n",
    "            model.compile(optimizer=optimizer, loss=loss, metrics=metrics)\n",
    "    else:\n",
    "        print(\"Setting up ANN model ...\")\n",
    "        if useCNN == '1D':\n",
    "            model = setupModel(inputLen, numClasses, windowSlice, conv2Dcols, dropOutRatio, filters)\n",
    "        if useCNN == '2D':\n",
    "            model = setupCNN2D(inputLen, numClasses, windowSlice, conv2Drows, conv2Dcols, dropOutRatio, filters)\n",
    "        model.compile(optimizer=optimizer, loss=loss, metrics=metrics)\n",
    "\n",
    "    #can also save and load TPU model\n",
    "    if useTPU:\n",
    "        print('Setting up TPU ANN model ...')\n",
    "        if tfVersion114:\n",
    "            model = setupTPUModel114(inputLen, numClasses, windowSlice, conv2Dcols, dropOutRatio, filters)\n",
    "            model.compile(optimizer=optimizer, loss=loss, metrics=metrics)\n",
    "        else:\n",
    "          model = setupTPUModel(model)\n",
    "\n",
    "        \"\"\"\n",
    "        try:\n",
    "            deviceName = os.environ['COLAB_TPU_ADDR']\n",
    "            TPUaddr = 'grpc://' + deviceName\n",
    "            print('Found TPU at: {}'.format(TPUaddr))\n",
    "        except KeyError:\n",
    "            print('TPU not found')\n",
    "            sys.exit(0)\n",
    "\n",
    "        if tfVersion114:\n",
    "            resolver = tf.distribute.cluster_resolver.TPUClusterResolver(tpu=TPUaddr)\n",
    "            tf.config.experimental_connect_to_host(resolver.master())\n",
    "            tf.tpu.experimental.initialize_tpu_system(resolver)\n",
    "            strategy = tf.distribute.experimental.TPUStrategy(resolver)\n",
    "            with strategy.scope():\n",
    "                model = setupModel(inputLen, numClasses, windowSlice, conv2Dcols, dropOutRatio, filters)\n",
    "        else:\n",
    "            model = tf.contrib.tpu.keras_to_tpu_model(\n",
    "                model,\n",
    "                strategy=tf.contrib.tpu.TPUDistributionStrategy(\n",
    "                tf.contrib.cluster_resolver.TPUClusterResolver(\n",
    "                tpu='grpc://' + os.environ['COLAB_TPU_ADDR'])\n",
    "                ))\n",
    "        \"\"\"    \n",
    "\n",
    "    return model\n",
    "\n",
    "  \n",
    "def setupCallbacks():\n",
    "    #Callbacks setup\n",
    "    callbacks = []\n",
    "    if saveModel:\n",
    "        ModelCheckpoint = tf.keras.callbacks.ModelCheckpoint(\n",
    "            #default: monitor='val_acc',\n",
    "            filepath=saveBestModelFN, verbose=1, period=saveEpochs, save_best_only=True)\n",
    "        callbacks.append(ModelCheckpoint)\n",
    "    #EarlyStopStall\n",
    "    if earlyStopStall:\n",
    "        eStopStall = tf.keras.callbacks.EarlyStopping(\n",
    "            monitor=metricES, min_delta=minDeltaStop, patience=esPatienceEpochs, verbose=1)\n",
    "        callbacks.append(eStopStall)    \n",
    "    #EarlyStopACC\n",
    "    if earlyStopACC:\n",
    "        '''DOES NOT WORK'''\n",
    "        '''\n",
    "        eStopACC = tf.keras.callbacks.EarlyStopping(\n",
    "            monitor='val_acc', baseline=earlyStopACCmin, patience=0)\n",
    "        callbacks.append(eStopACC)\n",
    "        '''\n",
    "        class TerminateOnACC(tf.keras.callbacks.Callback):\n",
    "            def on_epoch_end(self, epoch, logs={None}):\n",
    "                valacc = logs.get('val_acc')\n",
    "                if valacc >= earlyStopACCmin:\n",
    "                    print('\\nEpoch {}: Reached baseline val_acc {} ({})'.format(epoch+1, earlyStopACCmin, valacc))\n",
    "                    self.model.stop_training = True\n",
    "        tacc = TerminateOnACC()\n",
    "        callbacks.append(tacc)\n",
    "    #learning factor reduce   \n",
    "    if adaptLearningRate:\n",
    "        reduceLR = tf.keras.callbacks.ReduceLROnPlateau(\n",
    "            monitor=metricLR, factor=reduceLRFactor, min_lr=minLR,  min_delta=minDeltaLR, cooldown=waitMonitorEpochs, patience=alrPatienceEpochs)\n",
    "        callbacks.append(reduceLR)\n",
    "        #print learning rate callback\n",
    "        class LearningRateMonitor(tf.keras.callbacks.Callback):\n",
    "            def on_epoch_begin(self, epoch, logs=None):\n",
    "                print(\"learning rate: \", tf.keras.backend.eval(self.model.optimizer.lr))\n",
    "        lrm = LearningRateMonitor()\n",
    "        callbacks.append(lrm)\n",
    "    #Increase and decrease learning rate                                    \n",
    "    if bouncingLearningRate:\n",
    "        class bounceLearningRate(tf.keras.callbacks.Callback):\n",
    "            def __init__(self, epochs=40, dFact=0.5, up=0.0005, dn=0.00025):\n",
    "                self.lrpat   = epochs\n",
    "                self.lrdecayFactor = dFact\n",
    "                self.lrdecay = self.lrdecayFactor\n",
    "                self.upLimit = up\n",
    "                self.dnLimit = dn\n",
    "            def on_epoch_begin(self, epoch, logs=None):\n",
    "              if epoch >= self.lrpat:\n",
    "                if epoch % self.lrpat == 0:\n",
    "                    lr = tf.keras.backend.eval(self.model.optimizer.lr)\n",
    "                    if lr >=  self.upLimit: self.lrdecay = self.lrdecayFactor\n",
    "                    if lr <=  self.dnLimit: self.lrdecay = 1 / self.lrdecayFactor\n",
    "                    tf.keras.backend.set_value(model.optimizer.lr, lr*self.lrdecay)\n",
    "                    print(\"Epoch: \", epoch+1, \" learning rate: \", tf.keras.backend.eval(self.model.optimizer.lr))\n",
    "        blr = bounceLearningRate()\n",
    "        callbacks.append(blr)\n",
    "    #decaying learning rate                                    \n",
    "    if decayLearningRate:\n",
    "        class decayingLearningRate(tf.keras.callbacks.Callback):\n",
    "            lrates = [0.001, 0.0001, 0.00001, 0.000001]\n",
    "            lridx  = 0\n",
    "            lrpat  = 50 #epochs\n",
    "            def on_epoch_begin(self, epoch, logs=None):\n",
    "                if epoch % self.lrpat == 0:\n",
    "                    tf.keras.backend.set_value(model.optimizer.lr, self.lrates[self.lridx])\n",
    "                    print(\"Epoch: \", epoch+1, \" learning rate: \", tf.keras.backend.eval(self.model.optimizer.lr))\n",
    "                    self.lridx += 1\n",
    "                    if self.lridx >= len(self.lrates): self.lridx = 0 \n",
    "        dlr = decayingLearningRate()\n",
    "        callbacks.append(dlr)  \n",
    "        \n",
    "    return callbacks        \n",
    "\n",
    "#setup model\n",
    "model     = setUpModel(inputLen)\n",
    "callbacks = setupCallbacks()\n",
    "model.summary()"
   ]
  },
  {
   "cell_type": "code",
   "execution_count": 23,
   "metadata": {
    "colab": {},
    "colab_type": "code",
    "executionInfo": {
     "elapsed": 21884,
     "status": "ok",
     "timestamp": 1592661105136,
     "user": {
      "displayName": "Helder Daniel",
      "photoUrl": "https://lh3.googleusercontent.com/a-/AOh14Gg9_X9PHXyfxsFqdQBJarSFy5TpLITVEg043ihVUA=s64",
      "userId": "03611350071843918342"
     },
     "user_tz": -60
    },
    "id": "MNo-Oci-gbcY"
   },
   "outputs": [],
   "source": [
    "if useTPU:\n",
    "    #just for TF114 (?)\n",
    "    #trainYs = trainYs.astype(np.int32)\n",
    "    #testYs  = testYs.astype(np.int32)\n",
    "    \n",
    "    #deprecated\n",
    "    '''\n",
    "    if tfVersion114:\n",
    "        pass\n",
    "    else:\n",
    "        validationSplit = 0.3;\n",
    "        splitPoint = int(trainXs.shape[0]*(1-validationSplit))\n",
    "        valXs=trainXs[splitPoint:]\n",
    "        valYs=trainYs[splitPoint:]\n",
    "        trainXs=trainXs[:splitPoint]\n",
    "        trainYs=trainYs[:splitPoint]\n",
    "    '''\n",
    "\n",
    "    print(trainXs.shape, trainYs.shape, testXs.shape, testYs.shape)\n",
    "    \n",
    "    #make dataset a multiple of batchsize\n",
    "    if tfVersion114:\n",
    "        samplesTrainXs  = int(trainXs.shape[0] / batchSize) * batchSize\n",
    "        samplesTrainYs  = int(trainYs.shape[0] / batchSize) * batchSize\n",
    "        samplesTestXs   = int(testXs.shape[0]  / batchSize) * batchSize\n",
    "        samplesTestYs   = int(testYs.shape[0]  / batchSize) * batchSize\n",
    "       \n",
    "        trainXs = trainXs[:samplesTrainXs]\n",
    "        trainYs = trainYs[:samplesTrainYs]\n",
    "        testXs  = testXs [:samplesTestXs]\n",
    "        testYs  = testYs [:samplesTestYs]\n",
    "\n",
    "    print(trainXs.shape, trainYs.shape, testXs.shape, testYs.shape)"
   ]
  },
  {
   "cell_type": "code",
   "execution_count": 24,
   "metadata": {
    "colab": {},
    "colab_type": "code",
    "executionInfo": {
     "elapsed": 21877,
     "status": "ok",
     "timestamp": 1592661105137,
     "user": {
      "displayName": "Helder Daniel",
      "photoUrl": "https://lh3.googleusercontent.com/a-/AOh14Gg9_X9PHXyfxsFqdQBJarSFy5TpLITVEg043ihVUA=s64",
      "userId": "03611350071843918342"
     },
     "user_tz": -60
    },
    "id": "cqvPM3d3kiAy"
   },
   "outputs": [],
   "source": [
    "def plotStatsClass(xlen, history, earlyStopACCmin):\n",
    "    trainEpochs = [x[0] for x in history]\n",
    "    trainAccs   = [x[1] for x in history]\n",
    "    trainLosses = [x[2] for x in history]\n",
    "    print(trainEpochs)\n",
    "    print(trainAccs)\n",
    "    print(trainLosses)\n",
    "\n",
    "    plotStats(xlen, trainEpochs, trainAccs, trainLosses, earlyStopACCmin)"
   ]
  },
  {
   "cell_type": "code",
   "execution_count": 25,
   "metadata": {
    "colab": {},
    "colab_type": "code",
    "executionInfo": {
     "elapsed": 21872,
     "status": "ok",
     "timestamp": 1592661105138,
     "user": {
      "displayName": "Helder Daniel",
      "photoUrl": "https://lh3.googleusercontent.com/a-/AOh14Gg9_X9PHXyfxsFqdQBJarSFy5TpLITVEg043ihVUA=s64",
      "userId": "03611350071843918342"
     },
     "user_tz": -60
    },
    "id": "7n6uWFxMe65y"
   },
   "outputs": [],
   "source": [
    "#Note: Even with loading weights and restarting program with same seed\n",
    "#training values are different\n",
    "import pickle\n",
    "\n",
    "weigthsFN = storagepath + 'weigths.pickle'\n",
    "storeWeights = False\n",
    "loadWeights  = False\n",
    "\n",
    "if storeWeights:\n",
    "    weightsFixed = model.get_weights()\n",
    "    with open(weigthsFN, 'wb') as fp:\n",
    "        pickle.dump(weightsFixed, fp)\n",
    "\n",
    "if loadWeights:\n",
    "    with open(weigthsFN, 'rb') as fp:\n",
    "        weightsFixed = pickle.load(fp)\n",
    "#print(weightsFixed)"
   ]
  },
  {
   "cell_type": "code",
   "execution_count": 26,
   "metadata": {
    "colab": {},
    "colab_type": "code",
    "executionInfo": {
     "elapsed": 21867,
     "status": "ok",
     "timestamp": 1592661105139,
     "user": {
      "displayName": "Helder Daniel",
      "photoUrl": "https://lh3.googleusercontent.com/a-/AOh14Gg9_X9PHXyfxsFqdQBJarSFy5TpLITVEg043ihVUA=s64",
      "userId": "03611350071843918342"
     },
     "user_tz": -60
    },
    "id": "3kfVuY-6ytQC"
   },
   "outputs": [],
   "source": [
    "#Assumes each channel have same number of points\n",
    "def reducePoints(trainXs, testXs, channels, desiredPoints):\n",
    "    samplesT  = trainXs.shape[0]\n",
    "    samplest  = testXs.shape[0]\n",
    "    points    = trainXs.shape[1]\n",
    "    npoints   = int(points/channels)\n",
    "    nSamplesT = samplesT * channels\n",
    "    nSamplest = samplest * channels\n",
    "    \n",
    "    #print(nSamplesT, nSamplest, npoints, points)\n",
    "    trainXs0 = trainXs.reshape(nSamplesT, npoints)\n",
    "    testXs0  = testXs.reshape (nSamplest, npoints)\n",
    "    trainXs0 = trainXs0[: , 0:desiredPoints]    #reduce points \n",
    "    testXs0  = testXs0 [: , 0:desiredPoints]    #reduce points \n",
    "    trainXs0 = trainXs0.reshape(samplesT, desiredPoints*channels, 1) #Add 3rd dim for Conv1D\n",
    "    testXs0  = testXs0.reshape (samplest, desiredPoints*channels, 1) #Add 3rd dim for Conv1D\n",
    "                  \n",
    "    return trainXs0, testXs0"
   ]
  },
  {
   "cell_type": "code",
   "execution_count": 27,
   "metadata": {
    "colab": {},
    "colab_type": "code",
    "executionInfo": {
     "elapsed": 21860,
     "status": "ok",
     "timestamp": 1592661105139,
     "user": {
      "displayName": "Helder Daniel",
      "photoUrl": "https://lh3.googleusercontent.com/a-/AOh14Gg9_X9PHXyfxsFqdQBJarSFy5TpLITVEg043ihVUA=s64",
      "userId": "03611350071843918342"
     },
     "user_tz": -60
    },
    "id": "XWDGtV2IlIFI"
   },
   "outputs": [],
   "source": [
    "#Assumes each class have same number of samples\n",
    "def reduceSamples(trainXs, trainYs, numClasses, desiredSamples):\n",
    "    samples = trainXs.shape[0]\n",
    "    classSamples = int(samples/numClasses)\n",
    "    #print(samples,classSamples, desiredSamples)\n",
    "    #print()\n",
    "    samplesToDelete = []\n",
    "    for i in range(numClasses):\n",
    "        start  = i * classSamples + desiredSamples\n",
    "        end    = start + classSamples - desiredSamples\n",
    "        #print(start, end)\n",
    "        delete = list(range(start,end))\n",
    "        samplesToDelete.extend(delete)\n",
    "\n",
    "    trainXs0 = np.delete(trainXs, samplesToDelete, 0)  #reduce samples\n",
    "    trainYs0 = np.delete(trainYs, samplesToDelete, 0)  #reduce samples\n",
    "                  \n",
    "    return trainXs0, trainYs0\n",
    "\n",
    "#print(trainXs.shape, trainYs.shape, testXs.shape, testYs.shape) \n",
    "#trainXs0, trainYs0 = reduceSamples(trainXs, trainYs, numClasses, 200)\n",
    "#print(trainXs0.shape, trainYs0.shape, testXs.shape, testYs.shape) "
   ]
  },
  {
   "cell_type": "code",
   "execution_count": 28,
   "metadata": {
    "colab": {},
    "colab_type": "code",
    "executionInfo": {
     "elapsed": 21853,
     "status": "ok",
     "timestamp": 1592661105140,
     "user": {
      "displayName": "Helder Daniel",
      "photoUrl": "https://lh3.googleusercontent.com/a-/AOh14Gg9_X9PHXyfxsFqdQBJarSFy5TpLITVEg043ihVUA=s64",
      "userId": "03611350071843918342"
     },
     "user_tz": -60
    },
    "id": "XxxpBIfsY1VF"
   },
   "outputs": [],
   "source": [
    "#Assumes each channel have same number of points\n",
    "def reduceChannels(trainXs, testXs, numChannels, desiredChannels):\n",
    "    pointsByChannel = int(trainXs.shape[1]/numChannels)\n",
    "\n",
    "    samplesToDelete = []\n",
    "    trainXs0 = None\n",
    "    trainYs0 = None\n",
    "\n",
    "    #Convert to int\n",
    "    desiredChannels=[int(i) for i in desiredChannels]\n",
    "\n",
    "    for i in desiredChannels:\n",
    "\n",
    "        start  = i * pointsByChannel\n",
    "        end    = start + pointsByChannel\n",
    "        #print(start, end)\n",
    "\n",
    "        if trainXs0 is None:\n",
    "            trainXs0 = trainXs[:, start:end]\n",
    "            testXs0  = testXs[:, start:end]\n",
    "        else:\n",
    "            trainXs0 = np.concatenate((trainXs0, trainXs[:, start:end]), axis = 1)\n",
    "            testXs0  = np.concatenate((testXs0,  testXs[:, start:end]),  axis = 1)\n",
    "        #print(trainXs0.shape, testXs0.shape) \n",
    "                  \n",
    "    return trainXs0, testXs0\n",
    "\n",
    "#initData(data)\n",
    "#print(trainXs.shape, trainYs.shape, testXs.shape, testYs.shape) \n",
    "#trainXs0, testXs0 = reduceChannels(trainXs, testXs, 3, '2')\n",
    "#print(trainXs0.shape, trainYs.shape, testXs0.shape, testYs.shape) "
   ]
  },
  {
   "cell_type": "code",
   "execution_count": 29,
   "metadata": {
    "colab": {
     "base_uri": "https://localhost:8080/",
     "height": 55
    },
    "colab_type": "code",
    "executionInfo": {
     "elapsed": 21845,
     "status": "ok",
     "timestamp": 1592661105141,
     "user": {
      "displayName": "Helder Daniel",
      "photoUrl": "https://lh3.googleusercontent.com/a-/AOh14Gg9_X9PHXyfxsFqdQBJarSFy5TpLITVEg043ihVUA=s64",
      "userId": "03611350071843918342"
     },
     "user_tz": -60
    },
    "id": "H4WsZGXGy4Ae",
    "outputId": "c9627cbb-cb16-42d5-af5a-f19248028ee6"
   },
   "outputs": [
    {
     "data": {
      "text/plain": [
       "'\\n#Datasets equal, all gives TRUE\\n\\nchannels = 3\\nexp = 2000\\ntrainXs0, testXs0 = reducePoints(trainXs, testXs, channels, exp)\\ntrainYs0 = trainYs\\ntestYs0  = testYs\\n        \\nnumClasses = 7\\nexp = 800  #use eg.: 600 to give different datasets\\ntrainXs1, trainYs1 = reduceSamples(trainXs, trainYs, numClasses, exp)\\ntestXs1 = testXs\\ntestYs1 = testYs\\n\\nprint(np.array_equal(trainXs,trainXs0)) # test if same shape, same elements values\\nprint(np.array_equal(trainYs,trainYs0)) # test if same shape, same elements values\\nprint(np.array_equal(testXs, testXs0))  # test if same shape, same elements values\\nprint(np.array_equal(testYs, testYs0))  # test if same shape, same elements values\\n\\nprint(np.array_equal(trainXs,trainXs1)) # test if same shape, same elements values\\nprint(np.array_equal(trainYs,trainYs1)) # test if same shape, same elements values\\nprint(np.array_equal(testXs, testXs1))  # test if same shape, same elements values\\nprint(np.array_equal(testYs, testYs1))  # test if same shape, same elements values\\n\\n#Not needed if above used\\nprint(np.array_equal(trainXs0,trainXs1)) # test if same shape, same elements values\\nprint(np.array_equal(trainYs0,trainYs1)) # test if same shape, same elements values\\nprint(np.array_equal(testXs0, testXs1))  # test if same shape, same elements values\\nprint(np.array_equal(testYs0, testYs1))  # test if same shape, same elements values\\n'"
      ]
     },
     "execution_count": 29,
     "metadata": {
      "tags": []
     },
     "output_type": "execute_result"
    }
   ],
   "source": [
    "'''\n",
    "#Datasets equal, all gives TRUE\n",
    "\n",
    "channels = 3\n",
    "exp = 2000\n",
    "trainXs0, testXs0 = reducePoints(trainXs, testXs, channels, exp)\n",
    "trainYs0 = trainYs\n",
    "testYs0  = testYs\n",
    "        \n",
    "numClasses = 7\n",
    "exp = 800  #use eg.: 600 to give different datasets\n",
    "trainXs1, trainYs1 = reduceSamples(trainXs, trainYs, numClasses, exp)\n",
    "testXs1 = testXs\n",
    "testYs1 = testYs\n",
    "\n",
    "print(np.array_equal(trainXs,trainXs0)) # test if same shape, same elements values\n",
    "print(np.array_equal(trainYs,trainYs0)) # test if same shape, same elements values\n",
    "print(np.array_equal(testXs, testXs0))  # test if same shape, same elements values\n",
    "print(np.array_equal(testYs, testYs0))  # test if same shape, same elements values\n",
    "\n",
    "print(np.array_equal(trainXs,trainXs1)) # test if same shape, same elements values\n",
    "print(np.array_equal(trainYs,trainYs1)) # test if same shape, same elements values\n",
    "print(np.array_equal(testXs, testXs1))  # test if same shape, same elements values\n",
    "print(np.array_equal(testYs, testYs1))  # test if same shape, same elements values\n",
    "\n",
    "#Not needed if above used\n",
    "print(np.array_equal(trainXs0,trainXs1)) # test if same shape, same elements values\n",
    "print(np.array_equal(trainYs0,trainYs1)) # test if same shape, same elements values\n",
    "print(np.array_equal(testXs0, testXs1))  # test if same shape, same elements values\n",
    "print(np.array_equal(testYs0, testYs1))  # test if same shape, same elements values\n",
    "'''"
   ]
  },
  {
   "cell_type": "code",
   "execution_count": 30,
   "metadata": {
    "colab": {
     "base_uri": "https://localhost:8080/",
     "height": 1000
    },
    "colab_type": "code",
    "executionInfo": {
     "elapsed": 43976,
     "status": "error",
     "timestamp": 1592661127280,
     "user": {
      "displayName": "Helder Daniel",
      "photoUrl": "https://lh3.googleusercontent.com/a-/AOh14Gg9_X9PHXyfxsFqdQBJarSFy5TpLITVEg043ihVUA=s64",
      "userId": "03611350071843918342"
     },
     "user_tz": -60
    },
    "id": "GTMnlwUZFnpb",
    "outputId": "a0874350-2420-486b-9b13-33adcd2cf664"
   },
   "outputs": [
    {
     "name": "stdout",
     "output_type": "stream",
     "text": [
      "Sat Jun 20 13:51:46 2020       \n",
      "+-----------------------------------------------------------------------------+\n",
      "| NVIDIA-SMI 450.36.06    Driver Version: 418.67       CUDA Version: 10.1     |\n",
      "|-------------------------------+----------------------+----------------------+\n",
      "| GPU  Name        Persistence-M| Bus-Id        Disp.A | Volatile Uncorr. ECC |\n",
      "| Fan  Temp  Perf  Pwr:Usage/Cap|         Memory-Usage | GPU-Util  Compute M. |\n",
      "|                               |                      |               MIG M. |\n",
      "|===============================+======================+======================|\n",
      "|   0  Tesla P4            Off  | 00000000:00:04.0 Off |                    0 |\n",
      "| N/A   41C    P0    24W /  75W |    211MiB /  7611MiB |      0%      Default |\n",
      "|                               |                      |                 ERR! |\n",
      "+-------------------------------+----------------------+----------------------+\n",
      "                                                                               \n",
      "+-----------------------------------------------------------------------------+\n",
      "| Processes:                                                                  |\n",
      "|  GPU   GI   CI        PID   Type   Process name                  GPU Memory |\n",
      "|        ID   ID                                                   Usage      |\n",
      "|=============================================================================|\n",
      "|  No running processes found                                                 |\n",
      "+-----------------------------------------------------------------------------+\n",
      "Experiment '0', run 6\n",
      "Preparing data ...\n",
      "0\n",
      "1\n",
      "2\n",
      "3\n",
      "4\n",
      "5\n",
      "6\n",
      "done\n",
      "Setting up data ...\n",
      "done\n",
      "[[-4.387375]\n",
      " [-4.08171 ]\n",
      " [-3.776045]]\n",
      "(5600, 100, 1) (5600, 7) (1400, 100, 1) (1400, 7)\n",
      "Setting up ANN model ...\n",
      "WARNING:tensorflow:`period` argument is deprecated. Please use `save_freq` to specify the frequency in number of batches seen.\n",
      "Trainning run: 6\n",
      "0.0005\n",
      "32\n",
      "Epoch 1/200\n",
      "175/175 [==============================] - ETA: 0s - loss: 0.1188 - acc: 0.2127 - mae: 0.2383 - mse: 0.1188\n",
      "Epoch 00001: val_loss improved from inf to 0.11035, saving model to gdrive/My Drive/Colab Notebooks/00data/record/modelBest.h5\n",
      "175/175 [==============================] - 2s 10ms/step - loss: 0.1188 - acc: 0.2127 - mae: 0.2383 - mse: 0.1188 - val_loss: 0.1104 - val_acc: 0.3114 - val_mae: 0.2280 - val_mse: 0.1104\n",
      "Epoch 2/200\n",
      "171/175 [============================>.] - ETA: 0s - loss: 0.1055 - acc: 0.3629 - mae: 0.2138 - mse: 0.1055\n",
      "Epoch 00002: val_loss improved from 0.11035 to 0.09623, saving model to gdrive/My Drive/Colab Notebooks/00data/record/modelBest.h5\n",
      "175/175 [==============================] - 1s 5ms/step - loss: 0.1055 - acc: 0.3636 - mae: 0.2138 - mse: 0.1055 - val_loss: 0.0962 - val_acc: 0.4350 - val_mae: 0.2035 - val_mse: 0.0962\n",
      "Epoch 3/200\n",
      "173/175 [============================>.] - ETA: 0s - loss: 0.0945 - acc: 0.4581 - mae: 0.1930 - mse: 0.0945\n",
      "Epoch 00003: val_loss improved from 0.09623 to 0.08860, saving model to gdrive/My Drive/Colab Notebooks/00data/record/modelBest.h5\n",
      "175/175 [==============================] - 1s 5ms/step - loss: 0.0947 - acc: 0.4561 - mae: 0.1932 - mse: 0.0947 - val_loss: 0.0886 - val_acc: 0.5150 - val_mae: 0.1756 - val_mse: 0.0886\n",
      "Epoch 4/200\n",
      "173/175 [============================>.] - ETA: 0s - loss: 0.0840 - acc: 0.5275 - mae: 0.1725 - mse: 0.0840\n",
      "Epoch 00004: val_loss improved from 0.08860 to 0.08084, saving model to gdrive/My Drive/Colab Notebooks/00data/record/modelBest.h5\n",
      "175/175 [==============================] - 1s 5ms/step - loss: 0.0841 - acc: 0.5270 - mae: 0.1726 - mse: 0.0841 - val_loss: 0.0808 - val_acc: 0.5557 - val_mae: 0.1696 - val_mse: 0.0808\n",
      "Epoch 5/200\n",
      "173/175 [============================>.] - ETA: 0s - loss: 0.0737 - acc: 0.5956 - mae: 0.1519 - mse: 0.0737\n",
      "Epoch 00005: val_loss improved from 0.08084 to 0.07786, saving model to gdrive/My Drive/Colab Notebooks/00data/record/modelBest.h5\n",
      "175/175 [==============================] - 1s 5ms/step - loss: 0.0737 - acc: 0.5955 - mae: 0.1517 - mse: 0.0737 - val_loss: 0.0779 - val_acc: 0.5793 - val_mae: 0.1460 - val_mse: 0.0779\n",
      "Epoch 6/200\n",
      "164/175 [===========================>..] - ETA: 0s - loss: 0.0680 - acc: 0.6277 - mae: 0.1404 - mse: 0.0680\n",
      "Epoch 00006: val_loss improved from 0.07786 to 0.06312, saving model to gdrive/My Drive/Colab Notebooks/00data/record/modelBest.h5\n",
      "175/175 [==============================] - 1s 5ms/step - loss: 0.0680 - acc: 0.6273 - mae: 0.1402 - mse: 0.0680 - val_loss: 0.0631 - val_acc: 0.6450 - val_mae: 0.1301 - val_mse: 0.0631\n",
      "Epoch 7/200\n",
      "168/175 [===========================>..] - ETA: 0s - loss: 0.0640 - acc: 0.6510 - mae: 0.1325 - mse: 0.0640\n",
      "Epoch 00007: val_loss improved from 0.06312 to 0.06100, saving model to gdrive/My Drive/Colab Notebooks/00data/record/modelBest.h5\n",
      "175/175 [==============================] - 1s 5ms/step - loss: 0.0640 - acc: 0.6505 - mae: 0.1324 - mse: 0.0640 - val_loss: 0.0610 - val_acc: 0.6536 - val_mae: 0.1213 - val_mse: 0.0610\n",
      "Epoch 8/200\n",
      "174/175 [============================>.] - ETA: 0s - loss: 0.0626 - acc: 0.6595 - mae: 0.1273 - mse: 0.0626\n",
      "Epoch 00008: val_loss did not improve from 0.06100\n",
      "175/175 [==============================] - 1s 4ms/step - loss: 0.0627 - acc: 0.6589 - mae: 0.1274 - mse: 0.0627 - val_loss: 0.0714 - val_acc: 0.5864 - val_mae: 0.1391 - val_mse: 0.0714\n",
      "Epoch 9/200\n",
      "174/175 [============================>.] - ETA: 0s - loss: 0.0596 - acc: 0.6762 - mae: 0.1222 - mse: 0.0596\n",
      "Epoch 00009: val_loss improved from 0.06100 to 0.05693, saving model to gdrive/My Drive/Colab Notebooks/00data/record/modelBest.h5\n",
      "175/175 [==============================] - 1s 5ms/step - loss: 0.0595 - acc: 0.6762 - mae: 0.1222 - mse: 0.0595 - val_loss: 0.0569 - val_acc: 0.6943 - val_mae: 0.1132 - val_mse: 0.0569\n",
      "Epoch 10/200\n",
      "174/175 [============================>.] - ETA: 0s - loss: 0.0545 - acc: 0.7103 - mae: 0.1124 - mse: 0.0545\n",
      "Epoch 00010: val_loss did not improve from 0.05693\n",
      "175/175 [==============================] - 1s 4ms/step - loss: 0.0544 - acc: 0.7105 - mae: 0.1124 - mse: 0.0544 - val_loss: 0.0591 - val_acc: 0.6907 - val_mae: 0.1109 - val_mse: 0.0591\n",
      "Epoch 11/200\n",
      "174/175 [============================>.] - ETA: 0s - loss: 0.0522 - acc: 0.7284 - mae: 0.1069 - mse: 0.0522\n",
      "Epoch 00011: val_loss did not improve from 0.05693\n",
      "175/175 [==============================] - 1s 4ms/step - loss: 0.0522 - acc: 0.7284 - mae: 0.1069 - mse: 0.0522 - val_loss: 0.0622 - val_acc: 0.6679 - val_mae: 0.1151 - val_mse: 0.0622\n",
      "Epoch 12/200\n",
      "172/175 [============================>.] - ETA: 0s - loss: 0.0514 - acc: 0.7384 - mae: 0.1058 - mse: 0.0514\n",
      "Epoch 00012: val_loss improved from 0.05693 to 0.05264, saving model to gdrive/My Drive/Colab Notebooks/00data/record/modelBest.h5\n",
      "175/175 [==============================] - 1s 5ms/step - loss: 0.0514 - acc: 0.7387 - mae: 0.1058 - mse: 0.0514 - val_loss: 0.0526 - val_acc: 0.7314 - val_mae: 0.1026 - val_mse: 0.0526\n",
      "Epoch 13/200\n",
      "  1/175 [..............................] - ETA: 0s - loss: 0.0587 - acc: 0.6875 - mae: 0.1135 - mse: 0.0587"
     ]
    },
    {
     "ename": "KeyboardInterrupt",
     "evalue": "ignored",
     "output_type": "error",
     "traceback": [
      "\u001b[0;31m---------------------------------------------------------------------------\u001b[0m",
      "\u001b[0;31mKeyboardInterrupt\u001b[0m                         Traceback (most recent call last)",
      "\u001b[0;32m<ipython-input-30-a69d9a466462>\u001b[0m in \u001b[0;36m<module>\u001b[0;34m()\u001b[0m\n\u001b[1;32m    220\u001b[0m                     \u001b[0;31m#validation_steps=int(testXs.shape[0]/batchSize), #required if steps_per_epoch used\u001b[0m\u001b[0;34m\u001b[0m\u001b[0;34m\u001b[0m\u001b[0;34m\u001b[0m\u001b[0m\n\u001b[1;32m    221\u001b[0m                     \u001b[0;31m#validation_freq=5,\u001b[0m\u001b[0;34m\u001b[0m\u001b[0;34m\u001b[0m\u001b[0;34m\u001b[0m\u001b[0m\n\u001b[0;32m--> 222\u001b[0;31m                     \u001b[0mcallbacks\u001b[0m\u001b[0;34m=\u001b[0m\u001b[0mcallbacks\u001b[0m\u001b[0;34m,\u001b[0m\u001b[0;34m\u001b[0m\u001b[0;34m\u001b[0m\u001b[0m\n\u001b[0m\u001b[1;32m    223\u001b[0m                     \u001b[0;31m#verbose=1,\u001b[0m\u001b[0;34m\u001b[0m\u001b[0;34m\u001b[0m\u001b[0;34m\u001b[0m\u001b[0m\n\u001b[1;32m    224\u001b[0m                 )\n",
      "\u001b[0;32m/usr/local/lib/python3.6/dist-packages/tensorflow/python/keras/engine/training.py\u001b[0m in \u001b[0;36m_method_wrapper\u001b[0;34m(self, *args, **kwargs)\u001b[0m\n\u001b[1;32m     64\u001b[0m   \u001b[0;32mdef\u001b[0m \u001b[0m_method_wrapper\u001b[0m\u001b[0;34m(\u001b[0m\u001b[0mself\u001b[0m\u001b[0;34m,\u001b[0m \u001b[0;34m*\u001b[0m\u001b[0margs\u001b[0m\u001b[0;34m,\u001b[0m \u001b[0;34m**\u001b[0m\u001b[0mkwargs\u001b[0m\u001b[0;34m)\u001b[0m\u001b[0;34m:\u001b[0m\u001b[0;34m\u001b[0m\u001b[0;34m\u001b[0m\u001b[0m\n\u001b[1;32m     65\u001b[0m     \u001b[0;32mif\u001b[0m \u001b[0;32mnot\u001b[0m \u001b[0mself\u001b[0m\u001b[0;34m.\u001b[0m\u001b[0m_in_multi_worker_mode\u001b[0m\u001b[0;34m(\u001b[0m\u001b[0;34m)\u001b[0m\u001b[0;34m:\u001b[0m  \u001b[0;31m# pylint: disable=protected-access\u001b[0m\u001b[0;34m\u001b[0m\u001b[0;34m\u001b[0m\u001b[0m\n\u001b[0;32m---> 66\u001b[0;31m       \u001b[0;32mreturn\u001b[0m \u001b[0mmethod\u001b[0m\u001b[0;34m(\u001b[0m\u001b[0mself\u001b[0m\u001b[0;34m,\u001b[0m \u001b[0;34m*\u001b[0m\u001b[0margs\u001b[0m\u001b[0;34m,\u001b[0m \u001b[0;34m**\u001b[0m\u001b[0mkwargs\u001b[0m\u001b[0;34m)\u001b[0m\u001b[0;34m\u001b[0m\u001b[0;34m\u001b[0m\u001b[0m\n\u001b[0m\u001b[1;32m     67\u001b[0m \u001b[0;34m\u001b[0m\u001b[0m\n\u001b[1;32m     68\u001b[0m     \u001b[0;31m# Running inside `run_distribute_coordinator` already.\u001b[0m\u001b[0;34m\u001b[0m\u001b[0;34m\u001b[0m\u001b[0;34m\u001b[0m\u001b[0m\n",
      "\u001b[0;32m/usr/local/lib/python3.6/dist-packages/tensorflow/python/keras/engine/training.py\u001b[0m in \u001b[0;36mfit\u001b[0;34m(self, x, y, batch_size, epochs, verbose, callbacks, validation_split, validation_data, shuffle, class_weight, sample_weight, initial_epoch, steps_per_epoch, validation_steps, validation_batch_size, validation_freq, max_queue_size, workers, use_multiprocessing)\u001b[0m\n\u001b[1;32m    846\u001b[0m                 batch_size=batch_size):\n\u001b[1;32m    847\u001b[0m               \u001b[0mcallbacks\u001b[0m\u001b[0;34m.\u001b[0m\u001b[0mon_train_batch_begin\u001b[0m\u001b[0;34m(\u001b[0m\u001b[0mstep\u001b[0m\u001b[0;34m)\u001b[0m\u001b[0;34m\u001b[0m\u001b[0;34m\u001b[0m\u001b[0m\n\u001b[0;32m--> 848\u001b[0;31m               \u001b[0mtmp_logs\u001b[0m \u001b[0;34m=\u001b[0m \u001b[0mtrain_function\u001b[0m\u001b[0;34m(\u001b[0m\u001b[0miterator\u001b[0m\u001b[0;34m)\u001b[0m\u001b[0;34m\u001b[0m\u001b[0;34m\u001b[0m\u001b[0m\n\u001b[0m\u001b[1;32m    849\u001b[0m               \u001b[0;31m# Catch OutOfRangeError for Datasets of unknown size.\u001b[0m\u001b[0;34m\u001b[0m\u001b[0;34m\u001b[0m\u001b[0;34m\u001b[0m\u001b[0m\n\u001b[1;32m    850\u001b[0m               \u001b[0;31m# This blocks until the batch has finished executing.\u001b[0m\u001b[0;34m\u001b[0m\u001b[0;34m\u001b[0m\u001b[0;34m\u001b[0m\u001b[0m\n",
      "\u001b[0;32m/usr/local/lib/python3.6/dist-packages/tensorflow/python/eager/def_function.py\u001b[0m in \u001b[0;36m__call__\u001b[0;34m(self, *args, **kwds)\u001b[0m\n\u001b[1;32m    578\u001b[0m         \u001b[0mxla_context\u001b[0m\u001b[0;34m.\u001b[0m\u001b[0mExit\u001b[0m\u001b[0;34m(\u001b[0m\u001b[0;34m)\u001b[0m\u001b[0;34m\u001b[0m\u001b[0;34m\u001b[0m\u001b[0m\n\u001b[1;32m    579\u001b[0m     \u001b[0;32melse\u001b[0m\u001b[0;34m:\u001b[0m\u001b[0;34m\u001b[0m\u001b[0;34m\u001b[0m\u001b[0m\n\u001b[0;32m--> 580\u001b[0;31m       \u001b[0mresult\u001b[0m \u001b[0;34m=\u001b[0m \u001b[0mself\u001b[0m\u001b[0;34m.\u001b[0m\u001b[0m_call\u001b[0m\u001b[0;34m(\u001b[0m\u001b[0;34m*\u001b[0m\u001b[0margs\u001b[0m\u001b[0;34m,\u001b[0m \u001b[0;34m**\u001b[0m\u001b[0mkwds\u001b[0m\u001b[0;34m)\u001b[0m\u001b[0;34m\u001b[0m\u001b[0;34m\u001b[0m\u001b[0m\n\u001b[0m\u001b[1;32m    581\u001b[0m \u001b[0;34m\u001b[0m\u001b[0m\n\u001b[1;32m    582\u001b[0m     \u001b[0;32mif\u001b[0m \u001b[0mtracing_count\u001b[0m \u001b[0;34m==\u001b[0m \u001b[0mself\u001b[0m\u001b[0;34m.\u001b[0m\u001b[0m_get_tracing_count\u001b[0m\u001b[0;34m(\u001b[0m\u001b[0;34m)\u001b[0m\u001b[0;34m:\u001b[0m\u001b[0;34m\u001b[0m\u001b[0;34m\u001b[0m\u001b[0m\n",
      "\u001b[0;32m/usr/local/lib/python3.6/dist-packages/tensorflow/python/eager/def_function.py\u001b[0m in \u001b[0;36m_call\u001b[0;34m(self, *args, **kwds)\u001b[0m\n\u001b[1;32m    609\u001b[0m       \u001b[0;31m# In this case we have created variables on the first call, so we run the\u001b[0m\u001b[0;34m\u001b[0m\u001b[0;34m\u001b[0m\u001b[0;34m\u001b[0m\u001b[0m\n\u001b[1;32m    610\u001b[0m       \u001b[0;31m# defunned version which is guaranteed to never create variables.\u001b[0m\u001b[0;34m\u001b[0m\u001b[0;34m\u001b[0m\u001b[0;34m\u001b[0m\u001b[0m\n\u001b[0;32m--> 611\u001b[0;31m       \u001b[0;32mreturn\u001b[0m \u001b[0mself\u001b[0m\u001b[0;34m.\u001b[0m\u001b[0m_stateless_fn\u001b[0m\u001b[0;34m(\u001b[0m\u001b[0;34m*\u001b[0m\u001b[0margs\u001b[0m\u001b[0;34m,\u001b[0m \u001b[0;34m**\u001b[0m\u001b[0mkwds\u001b[0m\u001b[0;34m)\u001b[0m  \u001b[0;31m# pylint: disable=not-callable\u001b[0m\u001b[0;34m\u001b[0m\u001b[0;34m\u001b[0m\u001b[0m\n\u001b[0m\u001b[1;32m    612\u001b[0m     \u001b[0;32melif\u001b[0m \u001b[0mself\u001b[0m\u001b[0;34m.\u001b[0m\u001b[0m_stateful_fn\u001b[0m \u001b[0;32mis\u001b[0m \u001b[0;32mnot\u001b[0m \u001b[0;32mNone\u001b[0m\u001b[0;34m:\u001b[0m\u001b[0;34m\u001b[0m\u001b[0;34m\u001b[0m\u001b[0m\n\u001b[1;32m    613\u001b[0m       \u001b[0;31m# Release the lock early so that multiple threads can perform the call\u001b[0m\u001b[0;34m\u001b[0m\u001b[0;34m\u001b[0m\u001b[0;34m\u001b[0m\u001b[0m\n",
      "\u001b[0;32m/usr/local/lib/python3.6/dist-packages/tensorflow/python/eager/function.py\u001b[0m in \u001b[0;36m__call__\u001b[0;34m(self, *args, **kwargs)\u001b[0m\n\u001b[1;32m   2418\u001b[0m     \u001b[0;32mwith\u001b[0m \u001b[0mself\u001b[0m\u001b[0;34m.\u001b[0m\u001b[0m_lock\u001b[0m\u001b[0;34m:\u001b[0m\u001b[0;34m\u001b[0m\u001b[0;34m\u001b[0m\u001b[0m\n\u001b[1;32m   2419\u001b[0m       \u001b[0mgraph_function\u001b[0m\u001b[0;34m,\u001b[0m \u001b[0margs\u001b[0m\u001b[0;34m,\u001b[0m \u001b[0mkwargs\u001b[0m \u001b[0;34m=\u001b[0m \u001b[0mself\u001b[0m\u001b[0;34m.\u001b[0m\u001b[0m_maybe_define_function\u001b[0m\u001b[0;34m(\u001b[0m\u001b[0margs\u001b[0m\u001b[0;34m,\u001b[0m \u001b[0mkwargs\u001b[0m\u001b[0;34m)\u001b[0m\u001b[0;34m\u001b[0m\u001b[0;34m\u001b[0m\u001b[0m\n\u001b[0;32m-> 2420\u001b[0;31m     \u001b[0;32mreturn\u001b[0m \u001b[0mgraph_function\u001b[0m\u001b[0;34m.\u001b[0m\u001b[0m_filtered_call\u001b[0m\u001b[0;34m(\u001b[0m\u001b[0margs\u001b[0m\u001b[0;34m,\u001b[0m \u001b[0mkwargs\u001b[0m\u001b[0;34m)\u001b[0m  \u001b[0;31m# pylint: disable=protected-access\u001b[0m\u001b[0;34m\u001b[0m\u001b[0;34m\u001b[0m\u001b[0m\n\u001b[0m\u001b[1;32m   2421\u001b[0m \u001b[0;34m\u001b[0m\u001b[0m\n\u001b[1;32m   2422\u001b[0m   \u001b[0;34m@\u001b[0m\u001b[0mproperty\u001b[0m\u001b[0;34m\u001b[0m\u001b[0;34m\u001b[0m\u001b[0m\n",
      "\u001b[0;32m/usr/local/lib/python3.6/dist-packages/tensorflow/python/eager/function.py\u001b[0m in \u001b[0;36m_filtered_call\u001b[0;34m(self, args, kwargs)\u001b[0m\n\u001b[1;32m   1663\u001b[0m          if isinstance(t, (ops.Tensor,\n\u001b[1;32m   1664\u001b[0m                            resource_variable_ops.BaseResourceVariable))),\n\u001b[0;32m-> 1665\u001b[0;31m         self.captured_inputs)\n\u001b[0m\u001b[1;32m   1666\u001b[0m \u001b[0;34m\u001b[0m\u001b[0m\n\u001b[1;32m   1667\u001b[0m   \u001b[0;32mdef\u001b[0m \u001b[0m_call_flat\u001b[0m\u001b[0;34m(\u001b[0m\u001b[0mself\u001b[0m\u001b[0;34m,\u001b[0m \u001b[0margs\u001b[0m\u001b[0;34m,\u001b[0m \u001b[0mcaptured_inputs\u001b[0m\u001b[0;34m,\u001b[0m \u001b[0mcancellation_manager\u001b[0m\u001b[0;34m=\u001b[0m\u001b[0;32mNone\u001b[0m\u001b[0;34m)\u001b[0m\u001b[0;34m:\u001b[0m\u001b[0;34m\u001b[0m\u001b[0;34m\u001b[0m\u001b[0m\n",
      "\u001b[0;32m/usr/local/lib/python3.6/dist-packages/tensorflow/python/eager/function.py\u001b[0m in \u001b[0;36m_call_flat\u001b[0;34m(self, args, captured_inputs, cancellation_manager)\u001b[0m\n\u001b[1;32m   1744\u001b[0m       \u001b[0;31m# No tape is watching; skip to running the function.\u001b[0m\u001b[0;34m\u001b[0m\u001b[0;34m\u001b[0m\u001b[0;34m\u001b[0m\u001b[0m\n\u001b[1;32m   1745\u001b[0m       return self._build_call_outputs(self._inference_function.call(\n\u001b[0;32m-> 1746\u001b[0;31m           ctx, args, cancellation_manager=cancellation_manager))\n\u001b[0m\u001b[1;32m   1747\u001b[0m     forward_backward = self._select_forward_and_backward_functions(\n\u001b[1;32m   1748\u001b[0m         \u001b[0margs\u001b[0m\u001b[0;34m,\u001b[0m\u001b[0;34m\u001b[0m\u001b[0;34m\u001b[0m\u001b[0m\n",
      "\u001b[0;32m/usr/local/lib/python3.6/dist-packages/tensorflow/python/eager/function.py\u001b[0m in \u001b[0;36mcall\u001b[0;34m(self, ctx, args, cancellation_manager)\u001b[0m\n\u001b[1;32m    596\u001b[0m               \u001b[0minputs\u001b[0m\u001b[0;34m=\u001b[0m\u001b[0margs\u001b[0m\u001b[0;34m,\u001b[0m\u001b[0;34m\u001b[0m\u001b[0;34m\u001b[0m\u001b[0m\n\u001b[1;32m    597\u001b[0m               \u001b[0mattrs\u001b[0m\u001b[0;34m=\u001b[0m\u001b[0mattrs\u001b[0m\u001b[0;34m,\u001b[0m\u001b[0;34m\u001b[0m\u001b[0;34m\u001b[0m\u001b[0m\n\u001b[0;32m--> 598\u001b[0;31m               ctx=ctx)\n\u001b[0m\u001b[1;32m    599\u001b[0m         \u001b[0;32melse\u001b[0m\u001b[0;34m:\u001b[0m\u001b[0;34m\u001b[0m\u001b[0;34m\u001b[0m\u001b[0m\n\u001b[1;32m    600\u001b[0m           outputs = execute.execute_with_cancellation(\n",
      "\u001b[0;32m/usr/local/lib/python3.6/dist-packages/tensorflow/python/eager/execute.py\u001b[0m in \u001b[0;36mquick_execute\u001b[0;34m(op_name, num_outputs, inputs, attrs, ctx, name)\u001b[0m\n\u001b[1;32m     58\u001b[0m     \u001b[0mctx\u001b[0m\u001b[0;34m.\u001b[0m\u001b[0mensure_initialized\u001b[0m\u001b[0;34m(\u001b[0m\u001b[0;34m)\u001b[0m\u001b[0;34m\u001b[0m\u001b[0;34m\u001b[0m\u001b[0m\n\u001b[1;32m     59\u001b[0m     tensors = pywrap_tfe.TFE_Py_Execute(ctx._handle, device_name, op_name,\n\u001b[0;32m---> 60\u001b[0;31m                                         inputs, attrs, num_outputs)\n\u001b[0m\u001b[1;32m     61\u001b[0m   \u001b[0;32mexcept\u001b[0m \u001b[0mcore\u001b[0m\u001b[0;34m.\u001b[0m\u001b[0m_NotOkStatusException\u001b[0m \u001b[0;32mas\u001b[0m \u001b[0me\u001b[0m\u001b[0;34m:\u001b[0m\u001b[0;34m\u001b[0m\u001b[0;34m\u001b[0m\u001b[0m\n\u001b[1;32m     62\u001b[0m     \u001b[0;32mif\u001b[0m \u001b[0mname\u001b[0m \u001b[0;32mis\u001b[0m \u001b[0;32mnot\u001b[0m \u001b[0;32mNone\u001b[0m\u001b[0;34m:\u001b[0m\u001b[0;34m\u001b[0m\u001b[0;34m\u001b[0m\u001b[0m\n",
      "\u001b[0;31mKeyboardInterrupt\u001b[0m: "
     ]
    }
   ],
   "source": [
    "#Fit with TF1.14 losts session if data is to big.\n",
    "#it works with undersample=10\n",
    "\n",
    "#TF1.13.1 has no problem :)\n",
    "\n",
    "import psutil\n",
    "\n",
    "!nvidia-smi\n",
    "    \n",
    "epochs    = 200\n",
    "batchSize = 32\n",
    "initialLR = 0.0005\n",
    "amsGrad   = False\n",
    "\n",
    "bouncingLearningRate = True\n",
    "earlyStopACC         = True\n",
    "earlyStopStall       = True\n",
    "earlyStopACCmin      = 1.0 #0.975 #0.995\n",
    "esPatienceEpochs     = 30\n",
    "channels             = 3\n",
    "\n",
    "resumeLog         = True    #resumes interrupted Log. If false restarts logging experiments\n",
    "                            #HOWEVER if log file exists, adds to logfile (DOES NOT clear it)\n",
    "testSamples       = False   #Samples is 1 (S)\n",
    "testPoints        = False   #Points  is 2 (P)\n",
    "testChannels      = True\n",
    "shuffleEveryRun   = True    #Shuffle is B, no shuffle is A\n",
    "shuffleEveryEpoch = True\n",
    "resetModel        = True\n",
    "\n",
    "logFNL = exppath + 'experiment.log'\n",
    "runs   = 30 #25\n",
    "\n",
    "if testPoints: #for Points\n",
    "    init  =  2000\n",
    "    step  = -200\n",
    "    last  =  1990\n",
    "    extra = [150, 100, 50, 25]\n",
    "\n",
    "if testSamples: #for Samples\n",
    "    init  =  800\n",
    "    step  = -100   \n",
    "    last  =   99\n",
    "    extra = [50, 25]\n",
    "\n",
    "if testChannels: #strings is easiaer to use as key in dict\n",
    "    experiments = ['0', '1', '2']#['12', '02', '01', '0', '1', '2']\n",
    "else:\n",
    "    experiments = list(range(init, last, step)) + extra #just for above    \n",
    "\n",
    "initRun = 0\n",
    "\n",
    "#Adds to existing log, if log exists\n",
    "import os.path\n",
    "if os.path.isfile(logFNL):\n",
    "\n",
    "    #initExp = init\n",
    "    if resumeLog:    #Resumes interruped log\n",
    "        log = SimpleLog.load(logFNL)\n",
    "        lastEntrie = log.getLast()\n",
    "        lastExp    = lastEntrie[1][0]\n",
    "        lastRun    = lastEntrie[1][1]\n",
    "        if lastRun >= runs-1:\n",
    "            initRun = 0\n",
    "            idx = experiments.index(lastExp)\n",
    "            initExp = experiments[idx+1]\n",
    "        else:\n",
    "            initExp = lastExp\n",
    "            initRun = lastRun + 1\n",
    "    \n",
    "    idx = experiments.index(initExp)\n",
    "    experiments = experiments[idx:]\n",
    "    \n",
    "#This way always append if log already exist, HOWEVER only resumes log if resumeLog == True\n",
    "else:\n",
    "    log = SimpleLog()\n",
    "\n",
    "\n",
    "initialized = False\n",
    "for exp in experiments:\n",
    "    history = [] \n",
    "    executedRuns = 0\n",
    "    if initialized: initRun = 0\n",
    "    \n",
    "    if testPoints:\n",
    "        model = setUpModel(exp*channels)\n",
    "        model.compile(optimizer=tf.keras.optimizers.Adam(lr=initialLR, amsgrad=amsGrad), loss='mse', metrics=['acc', 'mae', 'mse'])\n",
    "        #model.compile(optimizer=tf.keras.optimizers.SGD(lr=initialLR), loss='mse', metrics=['acc', 'mae', 'mse'])    \n",
    "    \n",
    "    for run in range(initRun, runs):\n",
    "        initialized = True\n",
    "        print(\"Experiment '{}', run {}\".format(exp, run))\n",
    "        #continue\n",
    "\n",
    "\n",
    "        #reshuffle train and test sets each run\n",
    "        if shuffleEveryRun:\n",
    "            trainXs, trainYs, testXs, testYs = initData(data)\n",
    "            \n",
    "        #Check if shuffled\n",
    "        '''\n",
    "        with seed(1024), trainXs[51, 7:10]:\n",
    "        [[27.401766]\n",
    "         [27.096102]\n",
    "         [27.096102]]\n",
    "        '''\n",
    "        print(trainXs[51, 7:10])\n",
    "\n",
    "        if testPoints:\n",
    "            trainXs0, testXs0 = reducePoints(trainXs, testXs, channels, exp)\n",
    "            trainYs0 = trainYs\n",
    "            testYs0  = testYs\n",
    "        \n",
    "        if testSamples:\n",
    "            trainXs0, trainYs0 = reduceSamples(trainXs, trainYs, numClasses, exp)\n",
    "            testXs0 = testXs\n",
    "            testYs0 = testYs\n",
    "\n",
    "        if testChannels:\n",
    "            trainXs0, testXs0 = reduceChannels(trainXs, testXs, channels, exp)\n",
    "            trainYs0 = trainYs\n",
    "            testYs0  = testYs          \n",
    "\n",
    "        trainXs0, testXs0 = reducePoints(trainXs0, testXs0, len(exp), 100)\n",
    "        #trainXs0, trainYs0 = reduceSamples(trainXs0, trainYs0, numClasses, 100)\n",
    "        print(trainXs0.shape, trainYs0.shape, testXs0.shape, testYs0.shape)            \n",
    "\n",
    "\n",
    "        if resetModel:\n",
    "            #Reshape input layer by recreating model\n",
    "            #does not reset model metrics, must restart callbacks\n",
    "            #if testPoints: inlen = exp*channels\n",
    "            #else:          inlen = inputLen\n",
    "            #model = setUpModel(inlen)\n",
    "            model = setUpModel(trainXs0.shape[1])\n",
    "\n",
    "            #Reset model without recreating it by shuffling weights (faster)\n",
    "            #does not reset model metrics, must restart callbacks\n",
    "            #HOWEVER just shuffling weigts is not a good approach, cause after some runs stalls\n",
    "            '''           \n",
    "            weights = model.get_weights()\n",
    "            weights = [np.random.permutation(w.flat).reshape(w.shape) for w in weights]\n",
    "            # Faster, but less random: only permutes along the first dimension\n",
    "            # weights = [np.random.permutation(w) for w in weights]\n",
    "            model.set_weights(weights)\n",
    "            '''\n",
    "\n",
    "            #Set fixed waits\n",
    "            if loadWeights:\n",
    "                print('loading fixed weights')\n",
    "                model.set_weights(weightsFixed)\n",
    "\n",
    "            model.compile(optimizer=tf.keras.optimizers.Adam(lr=initialLR, amsgrad=amsGrad), loss='mse', metrics=['acc', 'mae', 'mse'])\n",
    "            #model.compile(optimizer=tf.keras.optimizers.SGD(lr=initialLR), loss='mse', metrics=['acc', 'mae', 'mse'])    \n",
    "\n",
    "            #Reset callbacks, and callbacks status to clear metrics\n",
    "            callbacks = setupCallbacks()\n",
    "\n",
    "\n",
    "        #Train model\n",
    "        if train:\n",
    "            print(\"Trainning run:\", run)\n",
    "            start = time.time()\n",
    "\n",
    "            if True: #useTPU:\n",
    "                #trainXsB = np.array_split(trainXs, parts)#[:-1]\n",
    "                #trainYsB = np.array_split(trainYs, parts)#[:-1]\n",
    "\n",
    "                print(initialLR)\n",
    "                print(batchSize)\n",
    "                #print(len(trainXsB), len(trainYsB))\n",
    "                #print(trainXsB[0].shape, trainYsB[0].shape)\n",
    "                #print(trainXsB[len(trainXsB)-1].shape, trainYsB[len(trainXsB)-1].shape)\n",
    "\n",
    "                #trainResponse = trainModel(trainXs, trainYs, epochs, batchSize, callbacks, shuffleValData)\n",
    "                '''\n",
    "                for e in range(epochs):\n",
    "                    print(f'Epoch: {e+1:04d}/{epochs:04d}')\n",
    "                    for p in range(parts):\n",
    "                        print(f'part: {p+1:04d}/{parts:04d}')\n",
    "                        trainResponse = model.fit(\n",
    "                                    trainXsB[p], trainYsB[p],\n",
    "                                    epochs=1,\n",
    "                                    batch_size=batchSize, #or 1 or None?\n",
    "                                    #validation_split=0.3,\n",
    "                                    #validation_data = (valXs,valYs),\n",
    "                                    #callbacks=callbacks,\n",
    "                                    #verbose=1, #default\n",
    "                                    ## steps_per_epoch=1,  #Why this? 1.14+ only?\n",
    "                                    )\n",
    "\n",
    "                trainResponse = model.fit(\n",
    "                                    trainXs, trainYs,\n",
    "                                    epochs=epochs,\n",
    "                                    batch_size=batchSize,\n",
    "                                    #validation_split=0.3,\n",
    "                                    validation_data = (valXs,valYs),\n",
    "                                    callbacks=callbacks,\n",
    "                                    #verbose=1, #default\n",
    "                                    #steps_per_epoch=1,  #Why this?\n",
    "                                    )\n",
    "\n",
    "                '''\n",
    "                trainResponse = model.fit(\n",
    "                    #Must fix samples to be multiple of TPUs\n",
    "                    trainXs0, trainYs0,\n",
    "                    #Fix samples to be multiple of TPUs, shuffle, etc.\n",
    "                    #prepareInput(trainXs, trainYs, batchSize, shuffle=True),\n",
    "                    epochs=epochs,\n",
    "                    #cannot be used with dataset as input\n",
    "                    batch_size=batchSize,\n",
    "                    #steps_per_epoch=int(trainXs.shape[0]/batchSize), #Must be samples/batchSize to run all dataset\n",
    "                    shuffle=shuffleEveryEpoch,\n",
    "                    #Cannot use with TPU distribution strategies\n",
    "                    #validation_split=0.3, #use 30% of samples to validate \n",
    "                    validation_data=(testXs0, testYs0),\n",
    "                    #validation_data=(valXs,valYs),\n",
    "                    #Fix samples to be multiple of TPU\n",
    "                    #validation_data=prepareInput(valXs,valYs, valBatchSize, shuffle=False),\n",
    "                    #validation_steps=int(testXs.shape[0]/batchSize), #required if steps_per_epoch used\n",
    "                    #validation_freq=5,\n",
    "                    callbacks=callbacks,\n",
    "                    #verbose=1,\n",
    "                )\n",
    "\n",
    "\n",
    "            else:\n",
    "                !nvidia-smi\n",
    "                trainResponse = trainModel(trainXs, trainYs, epochs, batchSize, callbacks, shuffleValData)\n",
    "\n",
    "            end = time.time()\n",
    "            trainTime = end - start\n",
    "            executedRuns += 1\n",
    "            print('\\nTrain time: ', trainTime)\n",
    "            #print(response.history.keys())\n",
    "            #loss = trainResponse.history['loss'][0]\n",
    "            #acc  = trainResponse.history['acc'][0]\n",
    "            #print('Train loss:', loss, ', acc: ', acc)\n",
    "\n",
    "            #Save last model\n",
    "            '''\n",
    "            if saveModel:\n",
    "                print('Saving ANN last model: ', saveLastModelFN)\n",
    "                tf.keras.models.save_model(model, saveLastModelFN)\n",
    "            '''\n",
    "\n",
    "            numEpochs = len(trainResponse.history['val_acc'])\n",
    "            bestAcc   = max(trainResponse.history['val_acc'])\n",
    "            bestLoss  = min(trainResponse.history['val_loss'])\n",
    "            history.append((numEpochs, bestAcc, bestLoss, trainTime))\n",
    "\n",
    "            log.add((exp, run, numEpochs, bestAcc, bestLoss, trainTime))\n",
    "            #log.add((exp, run, numEpochs, bestAcc, bestLoss, trainTime, psutil.virtual_memory()))\n",
    "            #log.add((exp, run, trainResponse))\n",
    "            log.save(logFN)\n",
    "\n",
    "            if executedRuns > 1: #need at least 2 data points to compute var, mean, and stdev\n",
    "                plotStatsClass(executedRuns, history, earlyStopACCmin)"
   ]
  },
  {
   "cell_type": "code",
   "execution_count": null,
   "metadata": {
    "colab": {},
    "colab_type": "code",
    "executionInfo": {
     "elapsed": 43961,
     "status": "aborted",
     "timestamp": 1592661127273,
     "user": {
      "displayName": "Helder Daniel",
      "photoUrl": "https://lh3.googleusercontent.com/a-/AOh14Gg9_X9PHXyfxsFqdQBJarSFy5TpLITVEg043ihVUA=s64",
      "userId": "03611350071843918342"
     },
     "user_tz": -60
    },
    "id": "rutMRQOs6JgA"
   },
   "outputs": [],
   "source": [
    "plotStatsClass(executedRuns, history, earlyStopACCmin)"
   ]
  },
  {
   "cell_type": "code",
   "execution_count": null,
   "metadata": {
    "colab": {},
    "colab_type": "code",
    "executionInfo": {
     "elapsed": 43957,
     "status": "aborted",
     "timestamp": 1592661127277,
     "user": {
      "displayName": "Helder Daniel",
      "photoUrl": "https://lh3.googleusercontent.com/a-/AOh14Gg9_X9PHXyfxsFqdQBJarSFy5TpLITVEg043ihVUA=s64",
      "userId": "03611350071843918342"
     },
     "user_tz": -60
    },
    "id": "WVpkwrZ6MuW-"
   },
   "outputs": [],
   "source": [
    "#evaluate\n",
    "print('\\nEvaluating on last model: ', saveLastModelFN)\n",
    "#model = tf.keras.models.load_model(saveLastModelFN)\n",
    "testResponse = model.evaluate(testXs, testYs, verbose=1)\n",
    "print('Evaluation loss: ', testResponse[0], ', acc: ', testResponse[1])\n",
    "print('Evaluation mean abs error: ', testResponse[2], ', mean sqd error: ', testResponse[3])\n",
    "\n",
    "#saveBestModelFN = recordpath + 'cnnctbu/01-cnn32_1d-raw-3000-99.929.h5'\n",
    "#print('\\nEvaluating on best model: ', saveBestModelFN)\n",
    "model = tf.keras.models.load_model(saveBestModelFN)\n",
    "testResponse = model.evaluate(testXs, testYs, verbose=1)\n",
    "print('Evaluation loss: ', testResponse[0], ', acc: ', testResponse[1])\n",
    "print('Evaluation mean abs error: ', testResponse[2], ', mean sqd error: ', testResponse[3])"
   ]
  },
  {
   "cell_type": "code",
   "execution_count": null,
   "metadata": {
    "colab": {},
    "colab_type": "code",
    "executionInfo": {
     "elapsed": 43951,
     "status": "aborted",
     "timestamp": 1592661127278,
     "user": {
      "displayName": "Helder Daniel",
      "photoUrl": "https://lh3.googleusercontent.com/a-/AOh14Gg9_X9PHXyfxsFqdQBJarSFy5TpLITVEg043ihVUA=s64",
      "userId": "03611350071843918342"
     },
     "user_tz": -60
    },
    "id": "-taQi9z2b4cs"
   },
   "outputs": [],
   "source": [
    "#print data measured\n",
    "print(model.metrics_names)\n",
    "print(trainResponse.history.keys())\n",
    "\n",
    "#print max acc\n",
    "maxacc = max(trainResponse.history['val_acc'][0:epochs])\n",
    "index = trainResponse.history['val_acc'][0:epochs].index(maxacc)\n",
    "minloss = trainResponse.history['val_loss'][index]\n",
    "print(index, maxacc, minloss)\n",
    "\n",
    "# summarize history for accuracy\n",
    "plt.plot(trainResponse.history['acc'])\n",
    "plt.plot(trainResponse.history['val_acc'])\n",
    "plt.title('model accuracy')\n",
    "plt.ylabel('accuracy')\n",
    "plt.xlabel('epoch')\n",
    "plt.legend(['train', 'test'], loc='upper left')\n",
    "plt.show()\n",
    "# summarize history for loss\n",
    "plt.plot(trainResponse.history['loss'])\n",
    "plt.plot(trainResponse.history['val_loss'])\n",
    "plt.title('model loss')\n",
    "plt.ylabel('loss')\n",
    "plt.xlabel('epoch')\n",
    "plt.legend(['train', 'test'], loc='upper left')\n",
    "plt.show()"
   ]
  }
 ],
 "metadata": {
  "accelerator": "GPU",
  "colab": {
   "collapsed_sections": [],
   "name": "classifier-v15.2.ipynb",
   "provenance": [
    {
     "file_id": "1SB88fA9IkYE0Rxv8IKG_ZFt2Gte9O_YU",
     "timestamp": 1564329120841
    },
    {
     "file_id": "1Tw_YvHlNK7cDjAMgMJkf0Zn8Hph9E1_U",
     "timestamp": 1564295778520
    },
    {
     "file_id": "1s9NteMqCR2JS__RHowTt66WJk2HYIqV5",
     "timestamp": 1562659536905
    },
    {
     "file_id": "1ukV34Wnghytj9oopbFhBH2GtlWxQVLXr",
     "timestamp": 1560302375163
    },
    {
     "file_id": "1SCne2jBbLssAXzBL3RyWx3OBMoIxUG3M",
     "timestamp": 1560298498064
    }
   ]
  },
  "kernelspec": {
   "display_name": "Python 3 (ipykernel)",
   "language": "python",
   "name": "python3"
  },
  "language_info": {
   "codemirror_mode": {
    "name": "ipython",
    "version": 3
   },
   "file_extension": ".py",
   "mimetype": "text/x-python",
   "name": "python",
   "nbconvert_exporter": "python",
   "pygments_lexer": "ipython3",
   "version": "3.9.7"
  }
 },
 "nbformat": 4,
 "nbformat_minor": 1
}
